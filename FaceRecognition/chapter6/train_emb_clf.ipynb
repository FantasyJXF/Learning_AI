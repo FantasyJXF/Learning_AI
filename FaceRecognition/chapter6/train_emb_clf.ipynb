{
 "cells": [
  {
   "cell_type": "markdown",
   "metadata": {},
   "source": [
    "# 训练一个人脸识别系统"
   ]
  },
  {
   "cell_type": "code",
   "execution_count": 1,
   "metadata": {},
   "outputs": [],
   "source": [
    "import numpy as np\n",
    "import tensorflow as tf\n",
    "import sys\n",
    "import os"
   ]
  },
  {
   "cell_type": "code",
   "execution_count": 2,
   "metadata": {},
   "outputs": [],
   "source": [
    "image_path = \"../datasets/lfw_mtcnnpy_160/\"\n",
    "files_data = \"../datasets/files_data.txt\"\n",
    "model_path = \"../models/20180402-114759\""
   ]
  },
  {
   "cell_type": "markdown",
   "metadata": {},
   "source": [
    "### 将图片名称和标签保存到文件中，一一对应"
   ]
  },
  {
   "cell_type": "markdown",
   "metadata": {},
   "source": [
    "dirs = os.listdir(path)\n",
    "\n",
    "with open(files_data, 'w+') as fp:\n",
    "    for dir_name in dirs:\n",
    "        dir = os.path.join(path, dir_name)\n",
    "        if not os.path.isdir(dir):\n",
    "            continue\n",
    "        for file in os.listdir(dir):\n",
    "            fp.write(file)\n",
    "            fp.write(\"\\t\")\n",
    "            fp.write(dir_name)\n",
    "            fp.write(\"\\n\")"
   ]
  },
  {
   "cell_type": "markdown",
   "metadata": {},
   "source": [
    "### 获取部分人脸数据"
   ]
  },
  {
   "cell_type": "code",
   "execution_count": 3,
   "metadata": {},
   "outputs": [],
   "source": [
    "image_list = []\n",
    "label_list = []\n",
    "with open(files_data,'r') as f:\n",
    "    while True:\n",
    "        line = f.readline()\n",
    "        if not line:\n",
    "            break\n",
    "        tmp1, tmp2 = [i for i in line.split()]\n",
    "        image_list.append(tmp1)\n",
    "        label_list.append(tmp2)"
   ]
  },
  {
   "cell_type": "code",
   "execution_count": 4,
   "metadata": {},
   "outputs": [],
   "source": [
    "from src import knn_clf"
   ]
  },
  {
   "cell_type": "code",
   "execution_count": 5,
   "metadata": {},
   "outputs": [],
   "source": [
    "image_size = 160\n",
    "margin = 44\n",
    "gpu_memory_fraction = 1.0\n",
    "image_list = image_list[:100]\n",
    "label_list = label_list[:100]"
   ]
  },
  {
   "cell_type": "markdown",
   "metadata": {},
   "source": [
    "### 人脸检测并对齐"
   ]
  },
  {
   "cell_type": "code",
   "execution_count": 6,
   "metadata": {},
   "outputs": [
    {
     "name": "stdout",
     "output_type": "stream",
     "text": [
      "Creating networks and loading parameters\n"
     ]
    }
   ],
   "source": [
    "images = knn_clf.load_and_align_data(image_path, label_list, image_list, image_size, margin, gpu_memory_fraction)"
   ]
  },
  {
   "cell_type": "code",
   "execution_count": 7,
   "metadata": {},
   "outputs": [
    {
     "name": "stdout",
     "output_type": "stream",
     "text": [
      "Model directory: ../models/20180402-114759\n",
      "Metagraph file: model-20180402-114759.meta\n",
      "Checkpoint file: model-20180402-114759.ckpt-275\n",
      "INFO:tensorflow:Restoring parameters from ../models/20180402-114759/model-20180402-114759.ckpt-275\n",
      "shape of emb is (100, 512)\n"
     ]
    }
   ],
   "source": [
    "with tf.Graph().as_default():\n",
    "\n",
    "        with tf.Session() as sess:\n",
    "\n",
    "            # Load the model\n",
    "            knn_clf.facenet.load_model(model_path)\n",
    "\n",
    "            # Get input and output tensors\n",
    "            images_placeholder = tf.get_default_graph().get_tensor_by_name(\"input:0\")\n",
    "            embeddings = tf.get_default_graph().get_tensor_by_name(\"embeddings:0\")\n",
    "            \n",
    "            phase_train_placeholder = tf.get_default_graph().get_tensor_by_name(\"phase_train:0\")\n",
    "\n",
    "            # Run forward pass to calculate embeddings\n",
    "            feed_dict = {images_placeholder: images, phase_train_placeholder: False}\n",
    "            emb = sess.run(embeddings, feed_dict=feed_dict)\n",
    "            print(\"shape of emb is\", emb.shape)\n",
    "            \n",
    "#             nrof_images = len(label_list)\n",
    "            \n",
    "#             print('Images:')\n",
    "#             for i in range(nrof_images):\n",
    "#                 print('%1d: %s' % (i, image_list[i]))\n",
    "#             print('')\n",
    "\n",
    "#             # Print distance matrix\n",
    "#             print('Distance matrix')\n",
    "#             print('    ', end='')\n",
    "#             for i in range(nrof_images):\n",
    "#                 print('    %1d     ' % i, end='')\n",
    "#             print('')\n",
    "#             for i in range(nrof_images):\n",
    "#                 print('%1d  ' % i, end='')\n",
    "#                 for j in range(nrof_images):\n",
    "#                     dist = np.sqrt(np.sum(np.square(np.subtract(emb[i, :], emb[j, :]))))\n",
    "#                     print('  %1.4f  ' % dist, end='')\n",
    "#                 print('')"
   ]
  },
  {
   "cell_type": "code",
   "execution_count": 17,
   "metadata": {},
   "outputs": [],
   "source": [
    "train_x = emb"
   ]
  },
  {
   "cell_type": "code",
   "execution_count": 18,
   "metadata": {},
   "outputs": [],
   "source": [
    "train_y = np.array(label_list)"
   ]
  },
  {
   "cell_type": "code",
   "execution_count": 19,
   "metadata": {},
   "outputs": [
    {
     "name": "stdout",
     "output_type": "stream",
     "text": [
      "(70, 512) (70,) (30, 512) (30,)\n"
     ]
    }
   ],
   "source": [
    "from sklearn.model_selection import train_test_split\n",
    "\n",
    "X_train, X_test, y_train, y_test = train_test_split(train_x, train_y, test_size=.3, random_state=42)\n",
    "print(X_train.shape,y_train.shape,X_test.shape,y_test.shape)"
   ]
  },
  {
   "cell_type": "code",
   "execution_count": 20,
   "metadata": {},
   "outputs": [],
   "source": [
    "# KNN Classifier  \n",
    "def knn_classifier(train_x, train_y):  \n",
    "    from sklearn.neighbors import KNeighborsClassifier  \n",
    "    model = KNeighborsClassifier()  \n",
    "    model.fit(train_x, train_y)  \n",
    "    return model  "
   ]
  },
  {
   "cell_type": "code",
   "execution_count": 22,
   "metadata": {},
   "outputs": [
    {
     "name": "stdout",
     "output_type": "stream",
     "text": [
      "accuracy: 63.33%\n"
     ]
    }
   ],
   "source": [
    "import sklearn\n",
    "classifiers = knn_classifier \n",
    "model = classifiers(X_train, y_train)  \n",
    "predict = model.predict(X_test)  \n",
    "\n",
    "accuracy = sklearn.metrics.accuracy_score(y_test, predict)  \n",
    "print ('accuracy: %.2f%%' % (100 * accuracy)  )"
   ]
  },
  {
   "cell_type": "code",
   "execution_count": null,
   "metadata": {},
   "outputs": [],
   "source": []
  }
 ],
 "metadata": {
  "kernelspec": {
   "display_name": "Python 3",
   "language": "python",
   "name": "python3"
  },
  "language_info": {
   "codemirror_mode": {
    "name": "ipython",
    "version": 3
   },
   "file_extension": ".py",
   "mimetype": "text/x-python",
   "name": "python",
   "nbconvert_exporter": "python",
   "pygments_lexer": "ipython3",
   "version": "3.5.2"
  }
 },
 "nbformat": 4,
 "nbformat_minor": 2
}
