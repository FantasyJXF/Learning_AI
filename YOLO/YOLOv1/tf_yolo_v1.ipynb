{
 "cells": [
  {
   "cell_type": "markdown",
   "metadata": {},
   "source": [
    "# Yolo V1 by tensorflow"
   ]
  },
  {
   "cell_type": "code",
   "execution_count": 1,
   "metadata": {},
   "outputs": [],
   "source": [
    "import os"
   ]
  },
  {
   "cell_type": "code",
   "execution_count": 2,
   "metadata": {},
   "outputs": [],
   "source": [
    "TEST_IMG1 = \"../datasets/car.jpg\"\n",
    "TEST_IMG2 = \"../datasets/cat.jpg\"\n",
    "TEST_IMG3 = \"../datasets/person.jpg\""
   ]
  },
  {
   "cell_type": "code",
   "execution_count": 3,
   "metadata": {},
   "outputs": [],
   "source": [
    "from YOLO.YOLOv1.yolo_v1 import Yolo"
   ]
  },
  {
   "cell_type": "code",
   "execution_count": 4,
   "metadata": {},
   "outputs": [
    {
     "name": "stdout",
     "output_type": "stream",
     "text": [
      "Start to build the network ...\n",
      "    Layer 1: type=Conv, num_filter=64, filter_size=7, stride=2, output_shape=(?, 224, 224, 64)\n",
      "    Layer 1: type=MaxPool, pool_size=2, stride=2, output_shape=(?, 112, 112, 64)\n",
      "    Layer 2: type=Conv, num_filter=192, filter_size=3, stride=1, output_shape=(?, 112, 112, 192)\n",
      "    Layer 2: type=MaxPool, pool_size=2, stride=2, output_shape=(?, 56, 56, 192)\n",
      "    Layer 3: type=Conv, num_filter=128, filter_size=1, stride=1, output_shape=(?, 56, 56, 128)\n",
      "    Layer 4: type=Conv, num_filter=256, filter_size=3, stride=1, output_shape=(?, 56, 56, 256)\n",
      "    Layer 5: type=Conv, num_filter=256, filter_size=1, stride=1, output_shape=(?, 56, 56, 256)\n",
      "    Layer 6: type=Conv, num_filter=512, filter_size=3, stride=1, output_shape=(?, 56, 56, 512)\n",
      "    Layer 6: type=MaxPool, pool_size=2, stride=2, output_shape=(?, 28, 28, 512)\n",
      "    Layer 7: type=Conv, num_filter=256, filter_size=1, stride=1, output_shape=(?, 28, 28, 256)\n",
      "    Layer 8: type=Conv, num_filter=512, filter_size=3, stride=1, output_shape=(?, 28, 28, 512)\n",
      "    Layer 9: type=Conv, num_filter=256, filter_size=1, stride=1, output_shape=(?, 28, 28, 256)\n",
      "    Layer 10: type=Conv, num_filter=512, filter_size=3, stride=1, output_shape=(?, 28, 28, 512)\n",
      "    Layer 11: type=Conv, num_filter=256, filter_size=1, stride=1, output_shape=(?, 28, 28, 256)\n",
      "    Layer 12: type=Conv, num_filter=512, filter_size=3, stride=1, output_shape=(?, 28, 28, 512)\n",
      "    Layer 13: type=Conv, num_filter=256, filter_size=1, stride=1, output_shape=(?, 28, 28, 256)\n",
      "    Layer 14: type=Conv, num_filter=512, filter_size=3, stride=1, output_shape=(?, 28, 28, 512)\n",
      "    Layer 15: type=Conv, num_filter=512, filter_size=1, stride=1, output_shape=(?, 28, 28, 512)\n",
      "    Layer 16: type=Conv, num_filter=1024, filter_size=3, stride=1, output_shape=(?, 28, 28, 1024)\n",
      "    Layer 16: type=MaxPool, pool_size=2, stride=2, output_shape=(?, 14, 14, 1024)\n",
      "    Layer 17: type=Conv, num_filter=512, filter_size=1, stride=1, output_shape=(?, 14, 14, 512)\n",
      "    Layer 18: type=Conv, num_filter=1024, filter_size=3, stride=1, output_shape=(?, 14, 14, 1024)\n",
      "    Layer 19: type=Conv, num_filter=512, filter_size=1, stride=1, output_shape=(?, 14, 14, 512)\n",
      "    Layer 20: type=Conv, num_filter=1024, filter_size=3, stride=1, output_shape=(?, 14, 14, 1024)\n",
      "    Layer 21: type=Conv, num_filter=1024, filter_size=3, stride=1, output_shape=(?, 14, 14, 1024)\n",
      "    Layer 22: type=Conv, num_filter=1024, filter_size=3, stride=2, output_shape=(?, 7, 7, 1024)\n",
      "    Layer 23: type=Conv, num_filter=1024, filter_size=3, stride=1, output_shape=(?, 7, 7, 1024)\n",
      "    Layer 24: type=Conv, num_filter=1024, filter_size=3, stride=1, output_shape=(?, 7, 7, 1024)\n",
      "    Layer 25: type=FC, num_out=512, output_shape=(?, 512)\n",
      "    Layer 26: type=FC, num_out=4096, output_shape=(?, 4096)\n",
      "    Layer 27: type=FC, num_out=1470, output_shape=(?, 1470)\n",
      "Start to load weights from file:./weights/YOLO_small.ckpt\n",
      "INFO:tensorflow:Restoring parameters from ./weights/YOLO_small.ckpt\n"
     ]
    }
   ],
   "source": [
    "yolo_net = Yolo(\"./weights/YOLO_small.ckpt\")"
   ]
  },
  {
   "cell_type": "code",
   "execution_count": 5,
   "metadata": {},
   "outputs": [],
   "source": [
    "TEST_IMG = \"../datasets/car2.jpg\""
   ]
  },
  {
   "cell_type": "code",
   "execution_count": 7,
   "metadata": {},
   "outputs": [
    {
     "name": "stdout",
     "output_type": "stream",
     "text": [
      "   class: car, [x, y, w, h]=[227, 473, 205, 103], confidence=0.640185\n",
      "   class: car, [x, y, w, h]=[880, 343, 183, 56], confidence=0.467875\n"
     ]
    }
   ],
   "source": [
    "yolo_net.detect_from_file(TEST_IMG1)"
   ]
  },
  {
   "cell_type": "code",
   "execution_count": null,
   "metadata": {},
   "outputs": [],
   "source": []
  }
 ],
 "metadata": {
  "kernelspec": {
   "display_name": "Python 3",
   "language": "python",
   "name": "python3"
  },
  "language_info": {
   "codemirror_mode": {
    "name": "ipython",
    "version": 3
   },
   "file_extension": ".py",
   "mimetype": "text/x-python",
   "name": "python",
   "nbconvert_exporter": "python",
   "pygments_lexer": "ipython3",
   "version": "3.5.2"
  }
 },
 "nbformat": 4,
 "nbformat_minor": 2
}
