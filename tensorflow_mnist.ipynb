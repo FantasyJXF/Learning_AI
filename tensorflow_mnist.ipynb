{
 "cells": [
  {
   "cell_type": "code",
   "execution_count": 1,
   "metadata": {
    "ExecuteTime": {
     "end_time": "2018-11-30T04:26:12.085421Z",
     "start_time": "2018-11-30T04:26:10.846803Z"
    }
   },
   "outputs": [],
   "source": [
    "import tensorflow as tf\n",
    "from tensorflow.examples.tutorials.mnist import input_data"
   ]
  },
  {
   "cell_type": "markdown",
   "metadata": {},
   "source": [
    "**1. 设置输入和输出节点的个数,配置神经网络的参数**"
   ]
  },
  {
   "cell_type": "code",
   "execution_count": 6,
   "metadata": {
    "ExecuteTime": {
     "end_time": "2018-11-30T04:39:12.802726Z",
     "start_time": "2018-11-30T04:39:12.797710Z"
    }
   },
   "outputs": [],
   "source": [
    "INPUT_NODE = 784\n",
    "OUTPUT_NODE = 10\n",
    "LAYER1_NODE = 500\n",
    "\n",
    "BATCH_SIZE = 100\n",
    "\n",
    "LEARNING_RATE_BASE = 0.8\n",
    "LEARNING_RATE_DECAY = 0.99\n",
    "REGULARIZATION_RATE = 0.0001\n",
    "TRAINING_STEPS = 5000\n",
    "MOVING_AVERAGE_DECAY = 0.99"
   ]
  },
  {
   "cell_type": "markdown",
   "metadata": {},
   "source": [
    "**2. 定义辅助函数来计算前向传播结果，使用ReLU做为激活函数。**"
   ]
  },
  {
   "cell_type": "code",
   "execution_count": 3,
   "metadata": {
    "ExecuteTime": {
     "end_time": "2018-11-30T04:26:25.207126Z",
     "start_time": "2018-11-30T04:26:25.204231Z"
    }
   },
   "outputs": [],
   "source": [
    "def inference(input_tensor, avg_class, weights1, biases1, weights2, biases2):\n",
    "    if avg_class == None:\n",
    "        layer1 = tf.nn.relu(tf.matmul(input_tensor, weights1) + biases1)\n",
    "        return tf.matmul(layer1, weights2) + biases2\n",
    "    else:\n",
    "        # 计算参数平均值,可以使用滑动平均模型\n",
    "        layer1 = tf.nn.relu(tf.matmul(input_tensor, avg_class.average(weights1) \n",
    "                            + avg_class.average(biases1)))\n",
    "        return tf.matmul(layer1, avg_class.average(weights2) \n",
    "                         + avg_class.average(biases2))"
   ]
  },
  {
   "cell_type": "markdown",
   "metadata": {},
   "source": [
    "**3. 定义训练过程。**"
   ]
  },
  {
   "cell_type": "code",
   "execution_count": 4,
   "metadata": {
    "ExecuteTime": {
     "end_time": "2018-11-30T04:29:39.460648Z",
     "start_time": "2018-11-30T04:29:39.452493Z"
    }
   },
   "outputs": [],
   "source": [
    "def train(mnist):\n",
    "    x = tf.placeholder(tf.float32, [None, INPUT_NODE], name='x-input')\n",
    "    y_ = tf.placeholder(tf.float32, [None, OUTPUT_NODE], name='y-input')\n",
    "    \n",
    "    # 生成隐藏层的参数\n",
    "    weights1 = tf.Variable(tf.truncated_normal([INPUT_NODE, LAYER1_NODE], stddev=0.1))\n",
    "    biases1 = tf.Variable(tf.constant(0.1, shape=[LAYER1_NODE]))\n",
    "    \n",
    "    # 生成输出层的参数\n",
    "    weights2 = tf.Variable(tf.truncated_normal([LAYER1_NODE, OUTPUT_NODE], stddev = 0.1))\n",
    "    biases2 = tf.Variable(tf.constant(0.1, shape=[OUTPUT_NODE]))\n",
    "    \n",
    "    # 计算在当前参数下的神经网络前向传播的结果\n",
    "    y = inference(x, None, weights1, biases1, weights2, biases2)\n",
    "    \n",
    "    # 定义存储训练轮数的变量\n",
    "    global_step = tf.Variable(0, trainable=False)\n",
    "    \n",
    "    # 给定滑动平均衰减率\n",
    "    variable_averages = tf.train.ExponentialMovingAverage(\n",
    "        MOVING_AVERAGE_DECAY, global_step)\n",
    "    \n",
    "    # 在所有神经网络参数的变量上使用滑动平均\n",
    "    variables_averages_op = variable_averages.apply(\n",
    "        tf.trainable_variables())\n",
    "    \n",
    "    #计算使用了滑动平均值后的前向传播结果\n",
    "    average_y = inference(\n",
    "        x, variable_averages, weights1, biases1, weights2, biases2)\n",
    "    \n",
    "    # 计算交叉熵作为刻画预测值和真实值之间差距的损失函数\n",
    "    cross_entropy = tf.nn.sparse_softmax_cross_entropy_with_logits(\n",
    "        logits=y, labels=tf.argmax(y_, 1))\n",
    "    cross_entropy_mean = tf.reduce_mean(cross_entropy)\n",
    "    \n",
    "    # 计算L2正则化损失函数\n",
    "    regularizer = tf.contrib.layers.l2_regularizer(REGULARIZATION_RATE)\n",
    "    # 计算模型的正则化损失\n",
    "    regularization = regularizer(weights1) + regularizer(weights2)\n",
    "    \n",
    "    # 计算总损失\n",
    "    loss = cross_entropy_mean + regularization\n",
    "    \n",
    "    # 设置指数衰减学习率\n",
    "    learning_rate = tf.train.exponential_decay(\n",
    "        LEARNING_RATE_BASE, # 基础学习率\n",
    "        global_step,        # 当前迭代的轮数\n",
    "        mnist.train.num_examples / BATCH_SIZE,  # 训练总次数\n",
    "        LEARNING_RATE_DECAY, # 学习率的衰减速度\n",
    "        staircase=True) \n",
    "    \n",
    "    # 优化损失函数\n",
    "    train_step = tf.train.GradientDescentOptimizer(learning_rate)\\\n",
    "                       .minimize(loss, global_step=global_step)\n",
    "\n",
    "    # 反向传播更新参数和更新每一个参数的滑动平均值\n",
    "    with tf.control_dependencies([train_step, variables_averages_op]):\n",
    "        train_op = tf.no_op(name='train')\n",
    "\n",
    "    # 计算正确率\n",
    "    correct_prediction = tf.equal(tf.argmax(average_y, 1), tf.argmax(y_, 1))\n",
    "    accuracy = tf.reduce_mean(tf.cast(correct_prediction, tf.float32))\n",
    "\n",
    "    # 初始化会话,并开始训练过程\n",
    "    with tf.Session() as sess:\n",
    "        tf.global_variables_initializer().run()\n",
    "\n",
    "        # 准备验证数据\n",
    "        validate_feed = {x: mnist.validation.images,\n",
    "                         y_: mnist.validation.labels}\n",
    "\n",
    "        # 准备测试数据\n",
    "        test_feed = {x: mnist.test.images,\n",
    "                     y_: mnist.test.labels}\n",
    "\n",
    "        # 迭代地训练神经网络\n",
    "        for i in range(TRAINING_STEPS):\n",
    "            # 每1000轮输出一次在验证集上的测试结果\n",
    "            if i % 1000 == 0:\n",
    "                validate_acc = sess.run(accuracy, feed_dict=validate_feed)\n",
    "                print(\"After %d training step(s), validation accuracy \"\n",
    "                      \"using average model is %g\" % (i, validate_acc))\n",
    "\n",
    "            # 产生这一轮使用的一个batch的训练数据,并运行训练过程\n",
    "            xs, ys = mnist.train.next_batch(BATCH_SIZE)\n",
    "            sess.run(train_op, feed_dict={x:xs, y_:ys})\n",
    "\n",
    "\n",
    "        # 训练结束后,在测试数据上检测神经网络模型的最终正确率\n",
    "        test_acc = sess.run(accuracy, feed_dict=test_feed)\n",
    "        print(\"After %d training steps, test accuracy using average \"\n",
    "              \"model is %g\" % (TRAINING_STEPS, test_acc))\n"
   ]
  },
  {
   "cell_type": "markdown",
   "metadata": {},
   "source": [
    "**4. 主程序入口，这里设定模型训练次数为30000次。**"
   ]
  },
  {
   "cell_type": "code",
   "execution_count": 7,
   "metadata": {
    "ExecuteTime": {
     "end_time": "2018-11-30T04:40:02.648293Z",
     "start_time": "2018-11-30T04:39:17.648461Z"
    }
   },
   "outputs": [
    {
     "name": "stdout",
     "output_type": "stream",
     "text": [
      "Extracting ./datasets/MNIST_data/train-images-idx3-ubyte.gz\n",
      "Extracting ./datasets/MNIST_data/train-labels-idx1-ubyte.gz\n",
      "Extracting ./datasets/MNIST_data/t10k-images-idx3-ubyte.gz\n",
      "Extracting ./datasets/MNIST_data/t10k-labels-idx1-ubyte.gz\n",
      "After 0 training step(s), validation accuracy using average model is 0.0924\n",
      "After 1000 training step(s), validation accuracy using average model is 0.0924\n",
      "After 2000 training step(s), validation accuracy using average model is 0.0924\n",
      "After 3000 training step(s), validation accuracy using average model is 0.0924\n",
      "After 4000 training step(s), validation accuracy using average model is 0.0924\n",
      "After 5000 training steps, test accuracy using average model is 0.0974\n"
     ]
    }
   ],
   "source": [
    "# 主程序入口\n",
    "def main(argv=None):\n",
    "    mnist = input_data.read_data_sets(\"./datasets/MNIST_data\", one_hot = True)\n",
    "    train(mnist)\n",
    "    \n",
    "if __name__ == '__main__':\n",
    "    main()\n"
   ]
  },
  {
   "cell_type": "code",
   "execution_count": null,
   "metadata": {},
   "outputs": [],
   "source": []
  }
 ],
 "metadata": {
  "kernelspec": {
   "display_name": "Python 3",
   "language": "python",
   "name": "python3"
  },
  "language_info": {
   "codemirror_mode": {
    "name": "ipython",
    "version": 3
   },
   "file_extension": ".py",
   "mimetype": "text/x-python",
   "name": "python",
   "nbconvert_exporter": "python",
   "pygments_lexer": "ipython3",
   "version": "3.5.2"
  }
 },
 "nbformat": 4,
 "nbformat_minor": 2
}
