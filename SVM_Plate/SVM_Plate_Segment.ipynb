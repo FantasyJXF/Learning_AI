{
 "cells": [
  {
   "cell_type": "markdown",
   "metadata": {},
   "source": [
    "# 车牌字符分割"
   ]
  },
  {
   "cell_type": "code",
   "execution_count": 2,
   "metadata": {
    "ExecuteTime": {
     "end_time": "2019-01-10T13:56:49.675525Z",
     "start_time": "2019-01-10T13:56:49.170831Z"
    }
   },
   "outputs": [],
   "source": [
    "import numpy as np\n",
    "import sys\n",
    "import os\n",
    "import cv2\n",
    "\n",
    "import matplotlib.pyplot as plt\n",
    "\n",
    "from skimage import io,filters\n",
    "from skimage.transform import resize"
   ]
  },
  {
   "cell_type": "code",
   "execution_count": 3,
   "metadata": {
    "ExecuteTime": {
     "end_time": "2019-01-10T13:56:50.291900Z",
     "start_time": "2019-01-10T13:56:50.285731Z"
    }
   },
   "outputs": [],
   "source": [
    "GRAYED_DIR = \"./outputs/Grayed_Image\"\n",
    "CROPPED_DIR = \"./outputs/Cropped_Image\"\n",
    "PLATE_SEG_CHARS = \"./outputs/Plate_Seg_Chars\""
   ]
  },
  {
   "cell_type": "code",
   "execution_count": 4,
   "metadata": {
    "ExecuteTime": {
     "end_time": "2019-01-10T13:56:51.307077Z",
     "start_time": "2019-01-10T13:56:51.305045Z"
    }
   },
   "outputs": [],
   "source": [
    "CHAR_HEIGHT = 92\n",
    "CHAR_WIDTH = 47"
   ]
  },
  {
   "cell_type": "markdown",
   "metadata": {},
   "source": [
    "## 去除车牌边框"
   ]
  },
  {
   "cell_type": "markdown",
   "metadata": {},
   "source": [
    "对车牌二值化图像行和列扫描。当行扫描时跳变小于某个阈值时，则认为这行数据中不包含字符信息，这行的像素直接置0。这样去除掉上、下边框和铆钉的影响。当扫描完行之后，直接在前端和末端抹掉两列（经验值）信息。这是为了去掉左右边框的影响。"
   ]
  },
  {
   "cell_type": "code",
   "execution_count": 53,
   "metadata": {
    "ExecuteTime": {
     "end_time": "2019-01-10T14:31:44.012177Z",
     "start_time": "2019-01-10T14:31:43.994014Z"
    }
   },
   "outputs": [
    {
     "name": "stdout",
     "output_type": "stream",
     "text": [
      "up is 17, down is 93\n",
      "up is 16, down is 136\n",
      "up is 7, down is 104\n",
      "up is 2, down is 118\n"
     ]
    }
   ],
   "source": [
    "for i in range(1,5):\n",
    "    path = os.path.join(GRAYED_DIR, \"gray_\"+str(i)+\".png\")\n",
    "    img = io.imread(path, as_gray=True)\n",
    "    rows, cols = img.shape\n",
    "\n",
    "    first = True\n",
    "    count_b = 0\n",
    "    count_p = 0\n",
    "    upside = 0\n",
    "    downside = rows\n",
    "    \n",
    "    for m in range(1, int(rows/3)):\n",
    "        sum_row = np.sum(img[m]) / 255 / cols\n",
    "        if sum_row>0.2 and sum_row<0.6 and first:\n",
    "            count_b = m\n",
    "            first = False\n",
    "            continue\n",
    "            \n",
    "        if sum_row>0.2 and sum_row<0.6 and count_b==m-1:\n",
    "            count_b = m\n",
    "            count_p += 1\n",
    "        else:\n",
    "            first = True\n",
    "            count_b = 0\n",
    "            count_p = 0\n",
    "    \n",
    "        if count_p >= 7:\n",
    "            first = True\n",
    "            upside = m-15\n",
    "            break\n",
    "    \n",
    "    for m in range(rows-1, rows-int(rows/3), -1):\n",
    "        sum_row = np.sum(img[m]) / 255 / cols\n",
    "        if sum_row>0.2 and sum_row<0.7 and first:\n",
    "            count_b = m\n",
    "            first = False\n",
    "            continue\n",
    "            \n",
    "        if sum_row>0.2 and sum_row<0.7 and count_b==m+1:\n",
    "            count_b = m\n",
    "            count_p += 1\n",
    "        else:\n",
    "            first = True\n",
    "            count_b = 0\n",
    "            count_p = 0\n",
    "    \n",
    "        if count_p >= 7:\n",
    "            first = True\n",
    "            downside = m+15\n",
    "            break\n",
    "\n",
    "    print(\"up is %g, down is %g\" %(upside, downside))\n",
    "    \n",
    "    _img = img[upside:downside, 5:-5]\n",
    "    thresh = filters.threshold_otsu(_img)\n",
    "    dst = (_img > thresh) * 1\n",
    "    if not os.path.exists(CROPPED_DIR):\n",
    "        os.mkdir(CROPPED_DIR)     \n",
    "    path_out = os.path.join(CROPPED_DIR, \"a_\"+str(i)+\".png\")\n",
    "    dst = dst.astype(np.uint8) * 255\n",
    "    io.imsave(path_out, dst)   "
   ]
  },
  {
   "cell_type": "markdown",
   "metadata": {
    "ExecuteTime": {
     "end_time": "2019-01-10T14:13:01.775389Z",
     "start_time": "2019-01-10T14:13:01.769243Z"
    }
   },
   "source": [
    "for i in range(1,151):\n",
    "    path = os.path.join(GRAYED_DIR, \"gray_\"+str(i)+\".png\")\n",
    "    img = io.imread(path, as_gray=True)\n",
    "    \n",
    "    rows, cols = img.shape\n",
    "    first = True\n",
    "    count_b = 1\n",
    "    count_p = 0\n",
    "    upside = 0\n",
    "    downside = rows\n",
    "    \n",
    "    for m in range(1, int(rows/5)):\n",
    "        sum_row = np.sum(img[m]) / 255 / cols\n",
    "        if sum_row>0.3 and sum_row<0.6 and first:\n",
    "            count_b = m\n",
    "            first = false\n",
    "        \n",
    "        if sum_row>0.3 and sum_row<0.6 and count_b==m-1:\n",
    "            count_b = m\n",
    "            count_p += 1\n",
    "        else:\n",
    "            first = True\n",
    "            count_b = 0\n",
    "            count_p = 0\n",
    "    \n",
    "        if count_p >= 15:\n",
    "            first = True\n",
    "            upside = m-15\n",
    "            \n",
    "    \n",
    "    \n",
    "    idxs = np.concatenate((range(0,int(rows/10)), range(rows-int(rows/9),rows)))\n",
    "\n",
    "    for k in idxs:\n",
    "        sum_row = np.sum(img[k]) / 255 / cols\n",
    "        if sum_row<0.35 or sum_row > 0.5:\n",
    "            img[k] = 0\n",
    "\n",
    "    _img = img[:, 5:-5]\n",
    "    thresh = filters.threshold_otsu(_img)\n",
    "    dst = (_img > thresh) * 1\n",
    "    if not os.path.exists(CROPPED_DIR):\n",
    "        os.mkdir(CROPPED_DIR)     \n",
    "    path_out = os.path.join(CROPPED_DIR, \"crop_\"+str(i)+\".png\")\n",
    "    dst = dst.astype(np.uint8) * 255\n",
    "    io.imsave(path_out, dst)"
   ]
  },
  {
   "cell_type": "markdown",
   "metadata": {},
   "source": [
    "## 字符截取"
   ]
  },
  {
   "cell_type": "code",
   "execution_count": 8,
   "metadata": {
    "ExecuteTime": {
     "end_time": "2019-01-07T04:15:28.918832Z",
     "start_time": "2019-01-07T04:15:27.792204Z"
    }
   },
   "outputs": [
    {
     "name": "stderr",
     "output_type": "stream",
     "text": [
      "/usr/local/lib/python3.5/dist-packages/skimage/transform/_warps.py:110: UserWarning: Anti-aliasing will be enabled by default in skimage 0.15 to avoid aliasing artifacts when down-sampling images.\n",
      "  warn(\"Anti-aliasing will be enabled by default in skimage 0.15 to \"\n",
      "/usr/local/lib/python3.5/dist-packages/skimage/util/dtype.py:130: UserWarning: Possible precision loss when converting from float64 to uint16\n",
      "  .format(dtypeobj_in, dtypeobj_out))\n"
     ]
    }
   ],
   "source": [
    "for i in range(1,151):\n",
    "    path = os.path.join(CROPPED_DIR, \"crop_\"+str(i)+\".png\")\n",
    "    \n",
    "    dir_out = os.path.join(PLATE_SEG_CHARS,\"Plate_\" +str(i))\n",
    "    if not os.path.exists(dir_out):\n",
    "        os.mkdir(dir_out)\n",
    " \n",
    "    img = io.imread(path, as_gray=True)\n",
    "    rows, cols = img.shape\n",
    "    per = np.floor(cols/7.5).astype(int)\n",
    "    for k in range(7):\n",
    "        if k > 1:\n",
    "            idxs = range(int((k+0.5)*per), int((k+1.5)*per))\n",
    "        else:\n",
    "            idxs = range(k*per, (k+1)*per)\n",
    "        char = resize(img[:,idxs], (CHAR_HEIGHT, CHAR_WIDTH), mode='reflect')\n",
    "        path_out = os.path.join(dir_out,\"char_\"+str(k+1)+\".png\")\n",
    "        io.imsave(path_out, char)\n",
    "#         plt.figure()\n",
    "#         io.imshow(char)\n",
    "#         plt.show()"
   ]
  },
  {
   "cell_type": "markdown",
   "metadata": {},
   "source": [
    "### 手动矫正"
   ]
  },
  {
   "cell_type": "markdown",
   "metadata": {},
   "source": [
    "对异常的车牌进行手动处理"
   ]
  },
  {
   "cell_type": "code",
   "execution_count": 24,
   "metadata": {
    "ExecuteTime": {
     "end_time": "2019-01-07T03:34:32.499904Z",
     "start_time": "2019-01-07T03:34:32.492929Z"
    }
   },
   "outputs": [
    {
     "name": "stdout",
     "output_type": "stream",
     "text": [
      "./outputs/Grayed_Image/bin_25.png\n"
     ]
    }
   ],
   "source": [
    "input1_ = []\n",
    "input2_ = []\n",
    "with open(\"./datasets/Char_Seg_Failed.txt\") as file_idx_err:\n",
    "    while True:\n",
    "        # 整行读取数据\n",
    "        lines = file_idx_err.readline()\n",
    "        if not lines:\n",
    "            break\n",
    "        # 将整行数据分割处理，这里分隔符为空格\n",
    "        tmp1, tmp2 = [i for i in lines.split()]\n",
    "        input1_.append(tmp1)\n",
    "        input2_.append(tmp2)\n",
    "\n",
    "    input1_ = np.array(input1_[1:])\n",
    "    input2_ = np.array(input2_[1:])\n",
    "    IndexFileName_Err = input2_\n",
    "\n",
    "for n in range(0, len(IndexFileName_Err)):\n",
    "    path_e = os.path.join(GRAYED_DIR, \"bin_\"+str(IndexFileName_Err[n])+\".png\")\n",
    "    img = io.imread(path_e, as_gray=True)\n",
    "    rows, cols = img.shape\n",
    "    idxs = np.concatenate((range(0,int(rows/10)), range(rows-int(rows/9),rows)))\n",
    "\n",
    "    for k in idxs:\n",
    "        sum_row = np.sum(img[k]) / 255 / cols\n",
    "        if sum_row<0.35 or sum_row > 0.5:\n",
    "            img[k] = 0\n",
    "\n",
    "    _img = img[:, 2:-5]\n",
    "    thresh = filters.threshold_otsu(_img)\n",
    "    dst = (_img > thresh) * 1\n",
    "    if not os.path.exists(CROPPED_DIR):\n",
    "        os.mkdir(CROPPED_DIR)   \n",
    "    path_out = os.path.join(CROPPED_DIR, \"crop_\"+str(IndexFileName_Err[n])+\".png\")\n",
    "    dst = dst.astype(np.uint8) * 255\n",
    "    io.imsave(path_out, dst)\n",
    "#     plt.figure()\n",
    "#     io.imshow(dst)\n",
    "#     plt.show()"
   ]
  }
 ],
 "metadata": {
  "kernelspec": {
   "display_name": "Python 3",
   "language": "python",
   "name": "python3"
  },
  "language_info": {
   "codemirror_mode": {
    "name": "ipython",
    "version": 3
   },
   "file_extension": ".py",
   "mimetype": "text/x-python",
   "name": "python",
   "nbconvert_exporter": "python",
   "pygments_lexer": "ipython3",
   "version": "3.5.2"
  }
 },
 "nbformat": 4,
 "nbformat_minor": 2
}
