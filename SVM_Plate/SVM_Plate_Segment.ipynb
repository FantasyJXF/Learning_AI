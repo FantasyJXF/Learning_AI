{
 "cells": [
  {
   "cell_type": "code",
   "execution_count": 1,
   "metadata": {
    "ExecuteTime": {
     "end_time": "2019-01-06T06:42:32.078784Z",
     "start_time": "2019-01-06T06:42:31.562979Z"
    }
   },
   "outputs": [],
   "source": [
    "import pandas as pd\n",
    "import numpy as np\n",
    "import sys\n",
    "import os\n",
    "import cv2\n",
    "\n",
    "import matplotlib.pyplot as plt\n",
    "\n",
    "from skimage import io,filters"
   ]
  },
  {
   "cell_type": "code",
   "execution_count": 71,
   "metadata": {
    "ExecuteTime": {
     "end_time": "2019-01-06T09:44:25.481712Z",
     "start_time": "2019-01-06T09:44:25.479469Z"
    }
   },
   "outputs": [],
   "source": [
    "GRAYED_DIR = \"./outputs/Grayed_Image\"\n",
    "GRAYED_DIR2 = \"./outputs/Croped_Image\"\n",
    "PLATE_SEG_CHARS = \"./outputs/Plate_Seg_Chars\""
   ]
  },
  {
   "cell_type": "markdown",
   "metadata": {},
   "source": [
    "对车牌二值化图像行和列扫描。当行扫描时跳变小于某个阈值时，则认为这行数据中不包含字符信息，这行的像素直接置0。这样去除掉上、下边框和铆钉的影响。当扫描完行之后，直接在前端和末端抹掉两列（经验值）信息。这是为了去掉左右边框的影响。"
   ]
  },
  {
   "cell_type": "code",
   "execution_count": 68,
   "metadata": {
    "ExecuteTime": {
     "end_time": "2019-01-06T09:34:15.752532Z",
     "start_time": "2019-01-06T09:34:15.607978Z"
    }
   },
   "outputs": [],
   "source": [
    "for i in range(1,151):\n",
    "    path = os.path.join(GRAYED_DIR, str(i)+\".png\")\n",
    "    img = io.imread(path, as_gray=True)\n",
    "    \n",
    "    rows, cols = img.shape\n",
    "    idxs = np.concatenate((range(0,int(rows/10)), range(rows-int(rows/9),rows)))\n",
    "\n",
    "    for k in idxs:\n",
    "        sum_row = np.sum(img[k]) / 255 / cols\n",
    "        if sum_row<0.35 or sum_row > 0.5:\n",
    "            img[k] = 0\n",
    "\n",
    "    _img = img[:, 5:-5]\n",
    "    thresh = filters.threshold_otsu(_img)\n",
    "    dst = (_img > thresh) * 1\n",
    "    if not os.path.exists(GRAYED_DIR2):\n",
    "        os.mkdir(GRAYED_DIR2)     \n",
    "    path_out = os.path.join(GRAYED_DIR2, str(i)+\".png\")\n",
    "    dst = dst.astype(np.uint8) * 255\n",
    "    io.imsave(path_out, dst)"
   ]
  },
  {
   "cell_type": "markdown",
   "metadata": {},
   "source": [
    "字符截取"
   ]
  },
  {
   "cell_type": "code",
   "execution_count": 93,
   "metadata": {
    "ExecuteTime": {
     "end_time": "2019-01-06T10:10:44.840637Z",
     "start_time": "2019-01-06T10:10:44.498064Z"
    }
   },
   "outputs": [],
   "source": [
    "for i in range(1,151):\n",
    "    path = os.path.join(GRAYED_DIR2, str(i)+\".png\")\n",
    " \n",
    "    dir_out = PLATE_SEG_CHARS+\"Plate_\" +str(i)\n",
    "    if not os.path.exists(dir_out):\n",
    "        os.mkdir(dir_out)\n",
    " \n",
    "    img = io.imread(path, as_gray=True)\n",
    "    rows, cols = img.shape\n",
    "    per = np.floor(cols/7.5).astype(int)\n",
    "    for k in range(7):\n",
    "        if k > 1:\n",
    "            idxs = range(int((k+0.5)*per), int((k+1.5)*per))\n",
    "        else:\n",
    "            idxs = range(k*per, (k+1)*per)\n",
    "        char = img[:,idxs]\n",
    "        path_out = os.path.join(dir_out,str(k+1)+\".png\")\n",
    "        io.imsave(path_out, char)\n",
    "#         plt.figure()\n",
    "#         io.imshow(char)\n",
    "#         plt.show()"
   ]
  },
  {
   "cell_type": "code",
   "execution_count": null,
   "metadata": {},
   "outputs": [],
   "source": []
  }
 ],
 "metadata": {
  "kernelspec": {
   "display_name": "Python 3",
   "language": "python",
   "name": "python3"
  },
  "language_info": {
   "codemirror_mode": {
    "name": "ipython",
    "version": 3
   },
   "file_extension": ".py",
   "mimetype": "text/x-python",
   "name": "python",
   "nbconvert_exporter": "python",
   "pygments_lexer": "ipython3",
   "version": "3.5.2"
  }
 },
 "nbformat": 4,
 "nbformat_minor": 2
}
