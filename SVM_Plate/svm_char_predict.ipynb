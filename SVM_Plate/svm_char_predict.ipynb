{
 "cells": [
  {
   "cell_type": "code",
   "execution_count": 1,
   "metadata": {
    "ExecuteTime": {
     "end_time": "2019-01-07T04:47:40.844061Z",
     "start_time": "2019-01-07T04:47:40.841141Z"
    }
   },
   "outputs": [],
   "source": [
    "import pickle"
   ]
  },
  {
   "cell_type": "code",
   "execution_count": 2,
   "metadata": {
    "ExecuteTime": {
     "end_time": "2019-01-07T04:49:00.869558Z",
     "start_time": "2019-01-07T04:49:00.665775Z"
    }
   },
   "outputs": [],
   "source": [
    "# 加载svm.pickle\n",
    "with open('svm.pickle', 'rb') as fr:\n",
    "    svm_clf = pickle.load(fr)"
   ]
  },
  {
   "cell_type": "code",
   "execution_count": 20,
   "metadata": {
    "ExecuteTime": {
     "end_time": "2019-01-07T05:28:03.683829Z",
     "start_time": "2019-01-07T05:28:03.675951Z"
    }
   },
   "outputs": [],
   "source": [
    "import math\n",
    "def features_extraction(path):\n",
    "    image = io.imread(path)\n",
    "    thresh = filters.threshold_otsu(image)\n",
    "    dst = (image > thresh) * 1\n",
    "    a, b = dst.shape\n",
    "    \n",
    "    '''\n",
    "    Feature1\n",
    "    '''\n",
    "    C1 = np.zeros(a + b, dtype=np.int)\n",
    "    # 每一行\n",
    "    for i in range(0, a):\n",
    "        for j in range(0, b):\n",
    "            if (dst[i, j] == 1):\n",
    "                C1[i] += 1\n",
    "    # 每一列\n",
    "    for j in range(0, b):\n",
    "        for i in range(0, a):\n",
    "            if (dst[i, j] == 1):\n",
    "                C1[a + j] += 1\n",
    "\n",
    "        \n",
    "    '''\n",
    "    Feature2\n",
    "    '''\n",
    "    bh2 = math.ceil(a / 8)\n",
    "    bw2 = math.ceil(b / 8)\n",
    "    size2 = bh2 * bw2\n",
    "    # 定义特征向量\n",
    "    C2 = np.zeros(size2, dtype=np.int)\n",
    "    for i in range(0, a):\n",
    "        x = math.floor(i / 8.0)\n",
    "        for j in range(0, b):\n",
    "            if dst[i, j] == 1:\n",
    "                y = math.floor(j / 8.0)\n",
    "                C2[bw2 * x + y] += 1\n",
    "\n",
    "        \n",
    "    '''\n",
    "    Feature3\n",
    "    '''    \n",
    "    bh3 = math.ceil(a / 4)\n",
    "    bw3 = math.ceil(b / 4)\n",
    "    size3 = bh3 * bw3\n",
    "    # 定义特征向量\n",
    "    C3 = np.zeros(size3, dtype=np.int)\n",
    "    for i in range(0, a):\n",
    "        x = math.floor(i / 8.0)\n",
    "        for j in range(0, b):\n",
    "            if dst[i, j] == 1:\n",
    "                y = math.floor(j / 8.0)\n",
    "                C3[bw3 * x + y] += 1\n",
    " \n",
    "        \n",
    "    '''\n",
    "    Feature4\n",
    "    '''\n",
    "    bh4 = math.ceil(a / 6)\n",
    "    bw4 = math.ceil(b / 6)\n",
    "    size4 = bh4 * bw4\n",
    "    # 定义特征向量\n",
    "    C4 = np.zeros(size4, dtype=np.int)\n",
    "    for i in range(0, a):\n",
    "        x = math.floor(i / 8.0)\n",
    "        for j in range(0, b):\n",
    "            if dst[i, j] == 1:\n",
    "                y = math.floor(j / 8.0)\n",
    "                C4[bw4 * x + y] += 1\n",
    "\n",
    "        \n",
    "    '''\n",
    "    Feature5\n",
    "    '''\n",
    "    size5 = a + b\n",
    "    # 定义特征向量\n",
    "    C5 = np.zeros(size5, dtype=np.int)\n",
    "    for i in range(a):\n",
    "        for j in range(b - 1):\n",
    "            if dst[i, j] != dst[i, j + 1] and dst[i, j + 1] == 1:\n",
    "                C5[i] += 1\n",
    "    for j in range(b):\n",
    "        for i in range(a - 1):\n",
    "            if dst[i, j] != dst[i + 1, j] and dst[i + 1, j] == 1:\n",
    "                C5[a + j] += 1\n",
    "\n",
    "    features = np.concatenate((C1, C2, C3, C4, C5)).reshape(1, -1)\n",
    "    return features"
   ]
  },
  {
   "cell_type": "code",
   "execution_count": 4,
   "metadata": {
    "ExecuteTime": {
     "end_time": "2019-01-07T05:16:50.231953Z",
     "start_time": "2019-01-07T05:16:50.010692Z"
    }
   },
   "outputs": [],
   "source": [
    "import numpy as np\n",
    "import sys\n",
    "import os\n",
    "import cv2\n",
    "\n",
    "import matplotlib.pyplot as plt\n",
    "\n",
    "from skimage import io,filters\n",
    "\n",
    "GRAYED_DIR = \"./outputs/Grayed_Image\"\n",
    "CROPPED_DIR = \"./outputs/Cropped_Image\"\n",
    "PLATE_SEG_CHARS = \"./outputs/Plate_Seg_Chars\""
   ]
  },
  {
   "cell_type": "code",
   "execution_count": 5,
   "metadata": {
    "ExecuteTime": {
     "end_time": "2019-01-07T05:18:43.254625Z",
     "start_time": "2019-01-07T05:18:43.247236Z"
    }
   },
   "outputs": [],
   "source": [
    "p_dir = os.path.join(PLATE_SEG_CHARS, \"Plate_1\")\n",
    "path = os.path.join(p_dir, \"char_1.png\")"
   ]
  },
  {
   "cell_type": "code",
   "execution_count": 22,
   "metadata": {
    "ExecuteTime": {
     "end_time": "2019-01-07T05:31:42.377700Z",
     "start_time": "2019-01-07T05:31:42.363899Z"
    }
   },
   "outputs": [],
   "source": [
    "char_in = features_extraction(path)"
   ]
  },
  {
   "cell_type": "code",
   "execution_count": 23,
   "metadata": {
    "ExecuteTime": {
     "end_time": "2019-01-07T05:32:00.861271Z",
     "start_time": "2019-01-07T05:32:00.855888Z"
    }
   },
   "outputs": [
    {
     "data": {
      "text/plain": [
       "(1, 754)"
      ]
     },
     "execution_count": 23,
     "metadata": {},
     "output_type": "execute_result"
    }
   ],
   "source": [
    "char_in.shape"
   ]
  },
  {
   "cell_type": "code",
   "execution_count": 24,
   "metadata": {
    "ExecuteTime": {
     "end_time": "2019-01-07T05:32:12.178725Z",
     "start_time": "2019-01-07T05:32:12.173713Z"
    }
   },
   "outputs": [],
   "source": [
    "y_ = svm_clf.predict(char_in)"
   ]
  },
  {
   "cell_type": "code",
   "execution_count": 25,
   "metadata": {
    "ExecuteTime": {
     "end_time": "2019-01-07T05:32:15.025252Z",
     "start_time": "2019-01-07T05:32:15.022286Z"
    }
   },
   "outputs": [
    {
     "data": {
      "text/plain": [
       "array(['10'], dtype='<U2')"
      ]
     },
     "execution_count": 25,
     "metadata": {},
     "output_type": "execute_result"
    }
   ],
   "source": [
    "y_"
   ]
  },
  {
   "cell_type": "code",
   "execution_count": null,
   "metadata": {},
   "outputs": [],
   "source": []
  }
 ],
 "metadata": {
  "kernelspec": {
   "display_name": "Python 3",
   "language": "python",
   "name": "python3"
  },
  "language_info": {
   "codemirror_mode": {
    "name": "ipython",
    "version": 3
   },
   "file_extension": ".py",
   "mimetype": "text/x-python",
   "name": "python",
   "nbconvert_exporter": "python",
   "pygments_lexer": "ipython3",
   "version": "3.5.2"
  }
 },
 "nbformat": 4,
 "nbformat_minor": 2
}
