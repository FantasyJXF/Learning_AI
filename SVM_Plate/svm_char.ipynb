{
 "cells": [
  {
   "cell_type": "code",
   "execution_count": 1,
   "metadata": {
    "ExecuteTime": {
     "end_time": "2018-12-19T06:50:27.542184Z",
     "start_time": "2018-12-19T06:50:27.538246Z"
    }
   },
   "outputs": [],
   "source": [
    "# -*- coding:utf-8 -*-"
   ]
  },
  {
   "cell_type": "code",
   "execution_count": 1,
   "metadata": {
    "ExecuteTime": {
     "end_time": "2018-12-19T07:54:18.808241Z",
     "start_time": "2018-12-19T07:54:18.234544Z"
    }
   },
   "outputs": [],
   "source": [
    "import os\n",
    "import sys\n",
    "#import cv2\n",
    "import math\n",
    "import numpy as np\n",
    "import pandas as pd\n",
    "from skimage import filters,io\n",
    "#import matplotlib.pyplot as plt"
   ]
  },
  {
   "cell_type": "code",
   "execution_count": 2,
   "metadata": {
    "ExecuteTime": {
     "end_time": "2018-12-19T07:54:19.301347Z",
     "start_time": "2018-12-19T07:54:19.295146Z"
    }
   },
   "outputs": [],
   "source": [
    "filename = \"Char_Index.txt\"\n",
    "INPUT_DIR = \"Char_Image\"\n",
    "OUTPUT_DIR = \"Char_Image_Binary\""
   ]
  },
  {
   "cell_type": "markdown",
   "metadata": {},
   "source": [
    "##  PreProcessing"
   ]
  },
  {
   "cell_type": "code",
   "execution_count": 3,
   "metadata": {
    "ExecuteTime": {
     "end_time": "2018-12-19T07:54:21.634139Z",
     "start_time": "2018-12-19T07:54:20.595140Z"
    }
   },
   "outputs": [],
   "source": [
    "input1 = []\n",
    "input2 = []\n",
    "input3 = []\n",
    "#Efield = []\n",
    "with open(filename, 'r') as  file_to_read:\n",
    "    while True:\n",
    "        # 整行读取数据\n",
    "        lines = file_to_read.readline()\n",
    "        if not lines:\n",
    "            break\n",
    "            pass\n",
    "        # 将整行数据分割处理，这里分隔符为空格\n",
    "        tmp1, tmp2, tmp3 = [i for i in lines.split()]\n",
    "        input1.append(tmp1)\n",
    "        input2.append(tmp2)\n",
    "        input3.append(tmp3)\n",
    "    input1 = np.array(input1[1:])\n",
    "    input2 = np.array(input2[1:])\n",
    "    input3 = np.array(input3[1:])\n",
    "indexFileName = input3\n",
    "input_y = input2\n",
    "\n",
    "for k in range(0, len(indexFileName)):\n",
    "    path = os.path.join(INPUT_DIR, indexFileName[k])\n",
    "    image = io.imread(path, as_gray=True)\n",
    "    #image = cv2.cvtColor(cv2.imread(path), cv2.COLOR_BGR2GRAY)\n",
    "    thresh = filters.threshold_otsu(image)\n",
    "    # 乘以1.0是因为将True,False转换为浮点数\n",
    "    dst = (image > thresh) * 1\n",
    "    a, b = dst.shape\n",
    "    # # 绘图显示\n",
    "    # plt.figure(\"thresh\", figsize=(8,8))\n",
    "    #\n",
    "    # plt.subplot(121)\n",
    "    # plt.title(\"Original\")\n",
    "    # plt.imshow(image, plt.cm.gray)\n",
    "    #\n",
    "    # plt.subplot(122)\n",
    "    # plt.title(\"binary\")\n",
    "    # # 0表示黑,1表示白\n",
    "    # plt.imshow(dst, plt.cm.gray)\n",
    "    # plt.show()\n",
    "\n",
    "    # 四个角的二值化数据大于2,白底\n",
    "    if (dst[0,0] + dst[0, b-1] + dst[a-1, 0] + dst[a-1,b-1] >= 2):\n",
    "        for i in range(0,a):\n",
    "            for j in range(0,b):\n",
    "                # 将每一个像素的值反向,转换成黑底白字\n",
    "                dst[i,j] = 1 - dst[i,j]\n",
    "    path_out = os.path.join(OUTPUT_DIR, str(k+1)+\".jpg\")\n",
    "    dst = dst.astype(np.uint8) * 255\n",
    "    io.imsave(path_out, dst)\n",
    "    #io.imshow(dst)"
   ]
  },
  {
   "cell_type": "markdown",
   "metadata": {},
   "source": [
    "## PreProcessingToCorrect "
   ]
  },
  {
   "cell_type": "code",
   "execution_count": 4,
   "metadata": {
    "ExecuteTime": {
     "end_time": "2018-12-19T07:54:22.676170Z",
     "start_time": "2018-12-19T07:54:22.568493Z"
    }
   },
   "outputs": [],
   "source": [
    "input1_ = []\n",
    "input2_ = []\n",
    "with open(\"Char_Index_Err.txt\") as file_idx_err:\n",
    "    while True:\n",
    "        # 整行读取数据\n",
    "        lines = file_idx_err.readline()\n",
    "        if not lines:\n",
    "            break\n",
    "        # 将整行数据分割处理，这里分隔符为空格\n",
    "        tmp1, tmp2 = [i for i in lines.split()]\n",
    "        input1_.append(tmp1)\n",
    "        input2_.append(tmp2)\n",
    "\n",
    "    input1_ = np.array(input1_[1:])\n",
    "    input2_ = np.array(input2_[1:])\n",
    "    IndexFileName_Err = input2_\n",
    "\n",
    "for k in range(0, len(IndexFileName_Err)):\n",
    "    path_e = os.path.join(OUTPUT_DIR, IndexFileName_Err[k])\n",
    "    img_e = io.imread(path_e)\n",
    "    a, b = img_e.shape\n",
    "    for i in range(0,a):\n",
    "        for j in range(0,b):\n",
    "            dst[i,j] = 255 - img_e[i,j]       \n",
    "    io.imsave(path_e ,dst)\n",
    "    #io.imshow(img_e)  "
   ]
  },
  {
   "cell_type": "markdown",
   "metadata": {},
   "source": [
    "## Feature Extration"
   ]
  },
  {
   "cell_type": "markdown",
   "metadata": {},
   "source": [
    "### Feature1\n",
    "\n",
    "找出每一行\\每一列的白色点的个数"
   ]
  },
  {
   "cell_type": "code",
   "execution_count": 5,
   "metadata": {
    "ExecuteTime": {
     "end_time": "2018-12-19T07:54:28.373982Z",
     "start_time": "2018-12-19T07:54:24.749932Z"
    }
   },
   "outputs": [],
   "source": [
    "with open(\"feature1.txt\",'w+') as fd:\n",
    "    for k in range(0, 1000):\n",
    "        path = os.path.join(OUTPUT_DIR, str(k+1)+'.jpg')\n",
    "        image = io.imread(path)\n",
    "        thresh = filters.threshold_otsu(image)\n",
    "        dst = (image > thresh) * 1\n",
    "        a, b = dst.shape\n",
    "        C = np.zeros(a+b, dtype=np.int)\n",
    "\n",
    "        # 每一行\n",
    "        for i in range(0, a):\n",
    "            for j in range(0, b):\n",
    "                if(dst[i,j] == 1):\n",
    "                    C[i] += 1\n",
    "        # 每一列\n",
    "        for j in range(0, b):\n",
    "            for i in range(0, a):\n",
    "                if(dst[i,j] == 1):\n",
    "                    C[a+j] += 1\n",
    "\n",
    "        fd.write(str(k+1) + '\\t')\n",
    "        for i in range(0, a+b-1):\n",
    "            fd.write(str(C[i]) + ',')\n",
    "        if k < 999:\n",
    "            fd.write(str(C[a+b-1]) + '\\n')\n",
    "        else:\n",
    "            fd.write(str(C[a+b-1]))\n"
   ]
  },
  {
   "cell_type": "markdown",
   "metadata": {},
   "source": [
    "### Feature2\n",
    "\n",
    "计算区域密度, 8*8"
   ]
  },
  {
   "cell_type": "code",
   "execution_count": 6,
   "metadata": {
    "ExecuteTime": {
     "end_time": "2018-12-19T07:54:30.676631Z",
     "start_time": "2018-12-19T07:54:28.375183Z"
    }
   },
   "outputs": [],
   "source": [
    "square8 = 8\n",
    "with open(\"feature2.txt\", 'w+') as fd:\n",
    "    for k in range(0, 1000):\n",
    "        path = os.path.join(OUTPUT_DIR, str(k+1)+'.jpg')\n",
    "        image = io.imread(path)\n",
    "        thresh = filters.threshold_otsu(image)\n",
    "        dst = (image > thresh) * 1\n",
    "        a, b = dst.shape\n",
    "        bh = math.ceil(a / square8)\n",
    "        bw = math.ceil(b / square8)\n",
    "        size_ = bh * bw\n",
    "        # 定义特征向量\n",
    "        C = np.zeros(size_, dtype=np.int)\n",
    "        \n",
    "        for i in range(0, a):\n",
    "            x = math.floor(i / 8.0)\n",
    "            for j in range(0, b):\n",
    "                if dst[i, j] == 1:\n",
    "                    y = math.floor(j / 8.0)\n",
    "                    C[bw*x + y] += 1\n",
    "                    \n",
    "        fd.write(str(k+1) + '\\t')\n",
    "        for i in range(0, size_ - 1):\n",
    "            fd.write(str(C[i]) + ',')\n",
    "        if k < 999:\n",
    "            fd.write(str(C[size_ - 1]) + '\\n')\n",
    "        else:\n",
    "            fd.write(str(C[size_ - 1]))"
   ]
  },
  {
   "cell_type": "markdown",
   "metadata": {},
   "source": [
    "### Feature3\n",
    "\n",
    "计算区域密度 4*4"
   ]
  },
  {
   "cell_type": "code",
   "execution_count": 7,
   "metadata": {
    "ExecuteTime": {
     "end_time": "2018-12-19T07:54:33.177020Z",
     "start_time": "2018-12-19T07:54:30.677987Z"
    }
   },
   "outputs": [],
   "source": [
    "square4 = 4\n",
    "with open(\"feature3.txt\", 'w+') as fd:\n",
    "    for k in range(0, 1000):\n",
    "        path = os.path.join(OUTPUT_DIR, str(k+1)+'.jpg')\n",
    "        image = io.imread(path)\n",
    "        thresh = filters.threshold_otsu(image)\n",
    "        dst = (image > thresh) * 1\n",
    "        a, b = dst.shape\n",
    "        bh = math.ceil(a / square4)\n",
    "        bw = math.ceil(b / square4)\n",
    "        size_ = bh * bw\n",
    "        # 定义特征向量\n",
    "        C = np.zeros(size_, dtype=np.int)\n",
    "        \n",
    "        for i in range(0, a):\n",
    "            x = math.floor(i / 8.0)\n",
    "            for j in range(0, b):\n",
    "                if dst[i, j] == 1:\n",
    "                    y = math.floor(j / 8.0)\n",
    "                    C[bw*x + y] += 1\n",
    "                    \n",
    "        fd.write(str(k+1) + '\\t')\n",
    "        for i in range(0, size_ - 1):\n",
    "            fd.write(str(C[i]) + ',')\n",
    "        if k < 999:\n",
    "            fd.write(str(C[size_ - 1]) + '\\n')\n",
    "        else:\n",
    "            fd.write(str(C[size_ - 1]))"
   ]
  },
  {
   "cell_type": "markdown",
   "metadata": {},
   "source": [
    "### Feature4\n",
    "计算区域密度 6*6"
   ]
  },
  {
   "cell_type": "code",
   "execution_count": 8,
   "metadata": {
    "ExecuteTime": {
     "end_time": "2018-12-19T07:54:35.546792Z",
     "start_time": "2018-12-19T07:54:33.178441Z"
    }
   },
   "outputs": [],
   "source": [
    "square6 = 6\n",
    "with open(\"feature4.txt\", 'w+') as fd:\n",
    "    for k in range(0, 1000):\n",
    "        path = os.path.join(OUTPUT_DIR, str(k+1)+'.jpg')\n",
    "        image = io.imread(path)\n",
    "        thresh = filters.threshold_otsu(image)\n",
    "        dst = (image > thresh) * 1\n",
    "        a, b = dst.shape\n",
    "        bh = math.ceil(a / square6)\n",
    "        bw = math.ceil(b / square6)\n",
    "        size_ = bh * bw\n",
    "        # 定义特征向量\n",
    "        C = np.zeros(size_, dtype=np.int)\n",
    "        \n",
    "        for i in range(0, a):\n",
    "            x = math.floor(i / 8.0)\n",
    "            for j in range(0, b):\n",
    "                if dst[i, j] == 1:\n",
    "                    y = math.floor(j / 8.0)\n",
    "                    C[bw*x + y] += 1\n",
    "                    \n",
    "        fd.write(str(k+1) + '\\t')\n",
    "        for i in range(0, size_ - 1):\n",
    "            fd.write(str(C[i]) + ',')\n",
    "        if k < 999:\n",
    "            fd.write(str(C[size_ - 1]) + '\\n')\n",
    "        else:\n",
    "            fd.write(str(C[size_ - 1]))"
   ]
  },
  {
   "cell_type": "markdown",
   "metadata": {},
   "source": [
    "### Feature5\n",
    "\n",
    "计算每一行,每一列的线段数目"
   ]
  },
  {
   "cell_type": "code",
   "execution_count": 9,
   "metadata": {
    "ExecuteTime": {
     "end_time": "2018-12-19T07:54:52.725022Z",
     "start_time": "2018-12-19T07:54:49.764990Z"
    }
   },
   "outputs": [],
   "source": [
    "with open(\"feature5.txt\", 'w+') as fd:\n",
    "    for k in range(0, 1000):\n",
    "        path = os.path.join(OUTPUT_DIR, str(k+1)+'.jpg')\n",
    "        image = io.imread(path)\n",
    "        thresh = filters.threshold_otsu(image)\n",
    "        dst = (image > thresh) * 1\n",
    "        a, b = dst.shape\n",
    "        size_ = a + b\n",
    "        # 定义特征向量\n",
    "        C = np.zeros(size_, dtype=np.int)\n",
    "        \n",
    "        for i in range(a):\n",
    "            for j in range(b-1):\n",
    "                if dst[i, j] != dst[i, j+1] and dst[i, j+1] == 1:\n",
    "                    C[i] += 1\n",
    "            \n",
    "        for j in range(b):\n",
    "            for i in range(a-1):\n",
    "                if dst[i, j] != dst[i+1, j] and dst[i+1, j] == 1:\n",
    "                    C[a+j] += 1\n",
    "                    \n",
    "        fd.write(str(k+1) + '\\t')\n",
    "        for i in range(0, size_ - 1):\n",
    "            fd.write(str(C[i]) + ',')\n",
    "        if k < 999:\n",
    "            fd.write(str(C[size_ - 1]) + '\\n')\n",
    "        else:\n",
    "            fd.write(str(C[size_ - 1]))"
   ]
  },
  {
   "cell_type": "markdown",
   "metadata": {},
   "source": [
    "### Feature6\n",
    "\n",
    "计算字符与上,下,左,右四个边界之间的距离"
   ]
  },
  {
   "cell_type": "code",
   "execution_count": null,
   "metadata": {},
   "outputs": [],
   "source": []
  },
  {
   "cell_type": "markdown",
   "metadata": {},
   "source": [
    "## 特征融合"
   ]
  },
  {
   "cell_type": "code",
   "execution_count": 28,
   "metadata": {
    "ExecuteTime": {
     "end_time": "2018-12-19T08:05:36.571083Z",
     "start_time": "2018-12-19T08:05:36.479299Z"
    }
   },
   "outputs": [],
   "source": [
    "feature1 = []\n",
    "with open(\"feature1.txt\", 'r') as fp:\n",
    "    for line in fp:\n",
    "        linearr = line.strip().split('\\t')\n",
    "        feature1.append(linearr[1].split(','))\n",
    "    feature1 = np.array(feature1)\n",
    "\n",
    "feature2 = []\n",
    "with open(\"feature2.txt\", 'r') as fp:\n",
    "    for line in fp:\n",
    "        linearr = line.strip().split('\\t')\n",
    "        feature2.append(linearr[1].split(','))\n",
    "    feature2 = np.array(feature2)  \n",
    "\n",
    "feature3 = []\n",
    "with open(\"feature3.txt\", 'r') as fp:\n",
    "    for line in fp:\n",
    "        linearr = line.strip().split('\\t')\n",
    "        feature3.append(linearr[1].split(','))\n",
    "    feature3 = np.array(feature3)\n",
    "\n",
    "feature4 = []\n",
    "with open(\"feature4.txt\", 'r') as fp:\n",
    "    for line in fp:\n",
    "        linearr = line.strip().split('\\t')\n",
    "        feature4.append(linearr[1].split(','))\n",
    "    feature4 = np.array(feature4)\n",
    "\n",
    "feature5 = []\n",
    "with open(\"feature5.txt\", 'r') as fp:\n",
    "    for line in fp:\n",
    "        linearr = line.strip().split('\\t')\n",
    "        feature5.append(linearr[1].split(','))\n",
    "    feature5 = np.array(feature5)"
   ]
  },
  {
   "cell_type": "code",
   "execution_count": 38,
   "metadata": {
    "ExecuteTime": {
     "end_time": "2018-12-19T08:18:51.869803Z",
     "start_time": "2018-12-19T08:18:51.860330Z"
    }
   },
   "outputs": [],
   "source": [
    "input_x = np.append(\n",
    "               np.append(\n",
    "                   np.append(\n",
    "                       np.append(feature1, \n",
    "                           feature2, axis=1),\n",
    "                           feature3, axis=1),  \n",
    "                           feature4, axis=1),\n",
    "                           feature5, axis=1)"
   ]
  },
  {
   "cell_type": "code",
   "execution_count": 39,
   "metadata": {
    "ExecuteTime": {
     "end_time": "2018-12-19T08:18:54.066773Z",
     "start_time": "2018-12-19T08:18:54.062596Z"
    }
   },
   "outputs": [],
   "source": [
    "from sklearn.preprocessing import StandardScaler\n",
    "from sklearn.model_selection import GridSearchCV, train_test_split"
   ]
  },
  {
   "cell_type": "markdown",
   "metadata": {},
   "source": [
    "## 模型训练"
   ]
  },
  {
   "cell_type": "code",
   "execution_count": 41,
   "metadata": {
    "ExecuteTime": {
     "end_time": "2018-12-19T08:20:50.765012Z",
     "start_time": "2018-12-19T08:20:50.751856Z"
    }
   },
   "outputs": [],
   "source": [
    "# 为了看模型在没有见过数据集上的表现，随机拿出数据集中30%的部分做测试\n",
    "X_train, X_test, y_train, y_test = train_test_split(input_x, input_y, test_size=0.3, random_state=0) "
   ]
  },
  {
   "cell_type": "code",
   "execution_count": 49,
   "metadata": {
    "ExecuteTime": {
     "end_time": "2018-12-19T08:54:29.810467Z",
     "start_time": "2018-12-19T08:53:22.191801Z"
    }
   },
   "outputs": [
    {
     "name": "stdout",
     "output_type": "stream",
     "text": [
      "精度为0.13333333333333333\n"
     ]
    }
   ],
   "source": [
    "svc = SVC(kernel='poly', degree=3, gamma=1, coef0=0)\n",
    "c_range = np.logspace(-5, 15, 11, base=2)\n",
    "gamma_range = np.logspace(-9, 3, 13, base=2)\n",
    "# 网格搜索交叉验证的参数范围，cv=3,3折交叉\n",
    "param_grid = [{'kernel': ['rbf'], 'C': c_range, 'gamma': gamma_range}]\n",
    "grid = GridSearchCV(svc, param_grid, cv=3, n_jobs=-1)\n",
    "# 训练模型\n",
    "clf = grid.fit(X_train, y_train)\n",
    "# 计算测试集精度\n",
    "score = grid.score(X_test, y_test)\n",
    "print('精度为%s' % score)"
   ]
  },
  {
   "cell_type": "code",
   "execution_count": null,
   "metadata": {},
   "outputs": [],
   "source": []
  }
 ],
 "metadata": {
  "kernelspec": {
   "display_name": "Python 3",
   "language": "python",
   "name": "python3"
  },
  "language_info": {
   "codemirror_mode": {
    "name": "ipython",
    "version": 3
   },
   "file_extension": ".py",
   "mimetype": "text/x-python",
   "name": "python",
   "nbconvert_exporter": "python",
   "pygments_lexer": "ipython3",
   "version": "3.5.2"
  }
 },
 "nbformat": 4,
 "nbformat_minor": 2
}
