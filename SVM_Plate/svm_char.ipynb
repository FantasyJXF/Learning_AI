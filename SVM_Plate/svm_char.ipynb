{
 "cells": [
  {
   "cell_type": "code",
   "execution_count": 1,
   "metadata": {},
   "outputs": [],
   "source": [
    "# -*- coding:utf-8 -*-"
   ]
  },
  {
   "cell_type": "code",
   "execution_count": 2,
   "metadata": {},
   "outputs": [],
   "source": [
    "import os\n",
    "import sys\n",
    "import cv2\n",
    "import numpy as np\n",
    "from skimage import filters,io\n",
    "import matplotlib.pyplot as plt"
   ]
  },
  {
   "cell_type": "code",
   "execution_count": 3,
   "metadata": {},
   "outputs": [],
   "source": [
    "filename = \"Char_Index.txt\"\n",
    "INPUT_DIR = \"Char_Image\"\n",
    "OUTPUT_DIR = \"Char_Image_Binary\""
   ]
  },
  {
   "cell_type": "markdown",
   "metadata": {},
   "source": [
    "##  PreProcessing"
   ]
  },
  {
   "cell_type": "code",
   "execution_count": 14,
   "metadata": {},
   "outputs": [
    {
     "name": "stderr",
     "output_type": "stream",
     "text": [
      "/usr/local/lib/python3.5/dist-packages/skimage/util/dtype.py:141: UserWarning: Possible precision loss when converting from float64 to uint8\n",
      "  .format(dtypeobj_in, dtypeobj_out))\n"
     ]
    }
   ],
   "source": [
    "input1 = []\n",
    "input2 = []\n",
    "input3 = []\n",
    "#Efield = []\n",
    "with open(filename, 'r') as  file_to_read:\n",
    "    while True:\n",
    "        # 整行读取数据\n",
    "        lines = file_to_read.readline()\n",
    "        if not lines:\n",
    "            break\n",
    "            pass\n",
    "        # 将整行数据分割处理，这里分隔符为空格\n",
    "        tmp1, tmp2, tmp3 = [i for i in lines.split()]\n",
    "        input1.append(tmp1)\n",
    "        input2.append(tmp2)\n",
    "        input3.append(tmp3)\n",
    "    input1 = np.array(input1[1:])\n",
    "    input2 = np.array(input2[1:])\n",
    "    input3 = np.array(input3[1:])\n",
    "    indexFileName = input3\n",
    "\n",
    "for k in range(0, len(indexFileName)):\n",
    "    path = os.path.join(INPUT_DIR, indexFileName[k])\n",
    "    image = io.imread(path, as_gray=True)\n",
    "    #image = cv2.cvtColor(cv2.imread(path), cv2.COLOR_BGR2GRAY)\n",
    "    thresh = filters.threshold_otsu(image)\n",
    "    dst = (image > thresh) * 1.0\n",
    "    a, b = dst.shape\n",
    "    # # 绘图显示\n",
    "    # plt.figure(\"thresh\", figsize=(8,8))\n",
    "    #\n",
    "    # plt.subplot(121)\n",
    "    # plt.title(\"Original\")\n",
    "    # plt.imshow(image, plt.cm.gray)\n",
    "    #\n",
    "    # plt.subplot(122)\n",
    "    # plt.title(\"binary\")\n",
    "    # plt.imshow(dst, plt.cm.gray)\n",
    "    # plt.show()\n",
    "\n",
    "    if (dst[0,0] + dst[0, b-1] + dst[a-1, 0] + dst[a-1,b-1] >= 2):\n",
    "        for i in range(0,a):\n",
    "            for j in range(0,b):\n",
    "                dst[i,j] = 1 - dst[i,j]\n",
    "    path_out = os.path.join(OUTPUT_DIR, str(k+1)+\".jpg\")\n",
    "    io.imsave(path_out, dst)\n"
   ]
  },
  {
   "cell_type": "markdown",
   "metadata": {},
   "source": [
    "## PreProcessingToCorrect "
   ]
  },
  {
   "cell_type": "code",
   "execution_count": 16,
   "metadata": {},
   "outputs": [],
   "source": [
    "input1_ = []\n",
    "input2_ = []\n",
    "with open(\"Char_Index_Err.txt\") as file_idx_err:\n",
    "    while True:\n",
    "        # 整行读取数据\n",
    "        lines = file_idx_err.readline()\n",
    "        if not lines:\n",
    "            break\n",
    "        # 将整行数据分割处理，这里分隔符为空格\n",
    "        tmp1, tmp2 = [i for i in lines.split()]\n",
    "        input1_.append(tmp1)\n",
    "        input2_.append(tmp2)\n",
    "\n",
    "    input1 = np.array(input1[1:])\n",
    "    input2 = np.array(input2[1:])\n",
    "    IndexFileName_Err = input2_[1:]\n",
    "\n",
    "for k in range(0, len(IndexFileName_Err)):\n",
    "    path_e = os.path.join(OUTPUT_DIR, IndexFileName_Err[0])\n",
    "    img_e = io.imread(path_e, as_gray=True)\n",
    "    img_e = img_e / 255\n",
    "    a, b = img_e.shape\n",
    "    for i in range(0,a):\n",
    "        for j in range(0,b):\n",
    "            dst[i,j] = 1- img_e[i,j]\n",
    "    io.imsave(path_e ,dst)\n",
    "    #io.imshow(img_e)  "
   ]
  },
  {
   "cell_type": "markdown",
   "metadata": {},
   "source": [
    "## Feature Extration"
   ]
  },
  {
   "cell_type": "markdown",
   "metadata": {},
   "source": [
    "### Feature1\n",
    "\n",
    "找出每一行白色、黑色点的个数"
   ]
  },
  {
   "cell_type": "code",
   "execution_count": 44,
   "metadata": {},
   "outputs": [],
   "source": [
    "input1 = []\n",
    "input2 = []\n",
    "input3 = []\n",
    "#Efield = []\n",
    "with open(filename, 'r') as  file_to_read:\n",
    "    while True:\n",
    "        # 整行读取数据\n",
    "        lines = file_to_read.readline()\n",
    "        if not lines:\n",
    "            break\n",
    "            pass\n",
    "        # 将整行数据分割处理，这里分隔符为空格\n",
    "        tmp1, tmp2, tmp3 = [i for i in lines.split()]\n",
    "        input1.append(tmp1)\n",
    "        input2.append(tmp2)\n",
    "        input3.append(tmp3)\n",
    "    input1 = np.array(input1[1:])\n",
    "    input2 = np.array(input2[1:])\n",
    "    input3 = np.array(input3[1:])\n",
    "    indexFileName = input3\n",
    "\n",
    "fid = open(\"test.txt\",'a+')\n",
    "for k in range(0, 2):\n",
    "    path = os.path.join(INPUT_DIR, indexFileName[k])\n",
    "    image = io.imread(path, as_gray=True)\n",
    "    thresh = filters.threshold_otsu(image)\n",
    "    dst = (image > thresh) * 1.0\n",
    "    a, b = dst.shape\n",
    "    C = np.zeros((1, a+b))\n",
    "\n",
    "    for i in range(0, a):\n",
    "        for j in range(0, b):\n",
    "            if(dst[i,j] == 1):\n",
    "                C[0,i] = C[0,i] + 1\n",
    "\n",
    "    for j in range(0, b):\n",
    "        for i in range(0, a):\n",
    "            if(dst[i,j] == 1):\n",
    "                C[0, a+j] = C[0, a+j] + 1\n",
    "\n",
    "    fid.write(str(k))\n",
    "    fid.write(' ')\n",
    "    for i in range(0, a+b-1):\n",
    "        fid.write(str(C[0,i]))\n",
    "        fid.write(\",\")\n",
    "\n",
    "# fid = open(\"test.txt\", 'w+')\n",
    "# for k in range(0, len(indexFileName)):\n",
    "#     path = os.path.join(Char_Image_Binary, indexFileName[k])\n",
    "#     image = io.imread(path, as_gray=True)\n",
    "#     #image = cv2.cvtColor(cv2.imread(path), cv2.COLOR_BGR2GRAY)\n",
    "#     thresh = filters.threshold_otsu(image)\n",
    "#     dst = (image > thresh) * 1.0\n",
    "#     a, b = dst.shape\n",
    "#     C = np.zeros(1, a+b)\n",
    "    \n",
    "#     for i in range(0, a):\n",
    "#         for j in range(0, b):\n",
    "#             if(B[i,j] == 1):\n",
    "#                 C[0,i] = C[0,i] + 1\n",
    "    \n",
    "#     for j in range(0, b):\n",
    "#         for i in range(0, a):\n",
    "#             if(B[i,j]==1):\n",
    "#                 C[1, a+j] = C[0, a+j] + 1\n",
    "    \n",
    "#     fid.write(\"%d\", k)\n",
    "#     fid.write(\"%s\",'    ')\n",
    "#     for i in range(0, a+b-1):\n",
    "#         fid.write(\"d\", C[0,i])\n",
    "#         fid.write(\"%s\", \",\")\n",
    "               \n"
   ]
  },
  {
   "cell_type": "code",
   "execution_count": null,
   "metadata": {},
   "outputs": [],
   "source": []
  }
 ],
 "metadata": {
  "kernelspec": {
   "display_name": "Python 3",
   "language": "python",
   "name": "python3"
  },
  "language_info": {
   "codemirror_mode": {
    "name": "ipython",
    "version": 3
   },
   "file_extension": ".py",
   "mimetype": "text/x-python",
   "name": "python",
   "nbconvert_exporter": "python",
   "pygments_lexer": "ipython3",
   "version": "3.5.2"
  }
 },
 "nbformat": 4,
 "nbformat_minor": 2
}
