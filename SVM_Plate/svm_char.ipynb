{
 "cells": [
  {
   "cell_type": "code",
   "execution_count": 1,
   "metadata": {
    "ExecuteTime": {
     "end_time": "2018-12-19T09:40:53.096989Z",
     "start_time": "2018-12-19T09:40:53.091454Z"
    }
   },
   "outputs": [],
   "source": [
    "# -*- coding:utf-8 -*-"
   ]
  },
  {
   "cell_type": "code",
   "execution_count": 2,
   "metadata": {
    "ExecuteTime": {
     "end_time": "2018-12-19T09:40:54.149266Z",
     "start_time": "2018-12-19T09:40:53.643438Z"
    }
   },
   "outputs": [],
   "source": [
    "import os\n",
    "import sys\n",
    "#import cv2\n",
    "import math\n",
    "import numpy as np\n",
    "import pandas as pd\n",
    "from skimage import filters,io\n",
    "#import matplotlib.pyplot as plt"
   ]
  },
  {
   "cell_type": "code",
   "execution_count": 3,
   "metadata": {
    "ExecuteTime": {
     "end_time": "2018-12-19T09:40:54.740997Z",
     "start_time": "2018-12-19T09:40:54.734425Z"
    }
   },
   "outputs": [],
   "source": [
    "filename = \"./datasets/Char_Index.txt\"\n",
    "INPUT_DIR = \"./datasets/Char_Image\"\n",
    "OUTPUT_DIR = \"./outputs/Char_Image_Binary\""
   ]
  },
  {
   "cell_type": "markdown",
   "metadata": {},
   "source": [
    "##  PreProcessing"
   ]
  },
  {
   "cell_type": "code",
   "execution_count": 4,
   "metadata": {
    "ExecuteTime": {
     "end_time": "2018-12-19T09:40:57.818097Z",
     "start_time": "2018-12-19T09:40:56.850471Z"
    }
   },
   "outputs": [],
   "source": [
    "input1 = []\n",
    "input2 = []\n",
    "input3 = []\n",
    "#Efield = []\n",
    "with open(filename, 'r') as  file_to_read:\n",
    "    while True:\n",
    "        # 整行读取数据\n",
    "        lines = file_to_read.readline()\n",
    "        if not lines:\n",
    "            break\n",
    "            pass\n",
    "        # 将整行数据分割处理，这里分隔符为空格\n",
    "        tmp1, tmp2, tmp3 = [i for i in lines.split()]\n",
    "        input1.append(tmp1)\n",
    "        input2.append(tmp2)\n",
    "        input3.append(tmp3)\n",
    "    input1 = np.array(input1[1:])\n",
    "    input2 = np.array(input2[1:])\n",
    "    input3 = np.array(input3[1:])\n",
    "indexFileName = input3\n",
    "input_y = input2\n",
    "\n",
    "for k in range(0, len(indexFileName)):\n",
    "    path = os.path.join(INPUT_DIR, indexFileName[k])\n",
    "    image = io.imread(path, as_gray=True)\n",
    "    #image = cv2.cvtColor(cv2.imread(path), cv2.COLOR_BGR2GRAY)\n",
    "    thresh = filters.threshold_otsu(image)\n",
    "    # 乘以1.0是因为将True,False转换为浮点数\n",
    "    dst = (image > thresh) * 1\n",
    "    a, b = dst.shape\n",
    "    # # 绘图显示\n",
    "    # plt.figure(\"thresh\", figsize=(8,8))\n",
    "    #\n",
    "    # plt.subplot(121)\n",
    "    # plt.title(\"Original\")\n",
    "    # plt.imshow(image, plt.cm.gray)\n",
    "    #\n",
    "    # plt.subplot(122)\n",
    "    # plt.title(\"binary\")\n",
    "    # # 0表示黑,1表示白\n",
    "    # plt.imshow(dst, plt.cm.gray)\n",
    "    # plt.show()\n",
    "\n",
    "    # 四个角的二值化数据大于2,白底\n",
    "    if (dst[0,0] + dst[0, b-1] + dst[a-1, 0] + dst[a-1,b-1] >= 2):\n",
    "        for i in range(0,a):\n",
    "            for j in range(0,b):\n",
    "                # 将每一个像素的值反向,转换成黑底白字\n",
    "                dst[i,j] = 1 - dst[i,j]\n",
    "    if not os.path.exist(OUTPUT_DIR):\n",
    "        os.mkdir(OUTPUT_DIR)\n",
    "    path_out = os.path.join(OUTPUT_DIR, str(k+1)+\".jpg\")\n",
    "    dst = dst.astype(np.uint8) * 255\n",
    "    io.imsave(path_out, dst)\n",
    "    #io.imshow(dst)"
   ]
  },
  {
   "cell_type": "markdown",
   "metadata": {},
   "source": [
    "## PreProcessingToCorrect "
   ]
  },
  {
   "cell_type": "code",
   "execution_count": 5,
   "metadata": {
    "ExecuteTime": {
     "end_time": "2018-12-19T09:40:59.456220Z",
     "start_time": "2018-12-19T09:40:59.375622Z"
    }
   },
   "outputs": [],
   "source": [
    "input1_ = []\n",
    "input2_ = []\n",
    "with open(\"./datasets/Char_Index_Err.txt\") as file_idx_err:\n",
    "    while True:\n",
    "        # 整行读取数据\n",
    "        lines = file_idx_err.readline()\n",
    "        if not lines:\n",
    "            break\n",
    "        # 将整行数据分割处理，这里分隔符为空格\n",
    "        tmp1, tmp2 = [i for i in lines.split()]\n",
    "        input1_.append(tmp1)\n",
    "        input2_.append(tmp2)\n",
    "\n",
    "    input1_ = np.array(input1_[1:])\n",
    "    input2_ = np.array(input2_[1:])\n",
    "    IndexFileName_Err = input2_\n",
    "\n",
    "for k in range(0, len(IndexFileName_Err)):\n",
    "    path_e = os.path.join(OUTPUT_DIR, IndexFileName_Err[k])\n",
    "    img_e = io.imread(path_e)\n",
    "    a, b = img_e.shape\n",
    "    for i in range(0,a):\n",
    "        for j in range(0,b):\n",
    "            dst[i,j] = 255 - img_e[i,j]       \n",
    "    io.imsave(path_e ,dst)\n",
    "    #io.imshow(img_e)  "
   ]
  },
  {
   "cell_type": "markdown",
   "metadata": {},
   "source": [
    "## Feature Extration"
   ]
  },
  {
   "cell_type": "markdown",
   "metadata": {},
   "source": [
    "### Feature1\n",
    "\n",
    "找出每一行\\每一列的白色点的个数"
   ]
  },
  {
   "cell_type": "code",
   "execution_count": 6,
   "metadata": {
    "ExecuteTime": {
     "end_time": "2018-12-19T09:41:05.234254Z",
     "start_time": "2018-12-19T09:41:01.764537Z"
    }
   },
   "outputs": [],
   "source": [
    "with open(\"./outputs/feature1.txt\",'w+') as fd:\n",
    "    for k in range(0, 1000):\n",
    "        path = os.path.join(OUTPUT_DIR, str(k+1)+'.jpg')\n",
    "        image = io.imread(path)\n",
    "        thresh = filters.threshold_otsu(image)\n",
    "        dst = (image > thresh) * 1\n",
    "        a, b = dst.shape\n",
    "        C = np.zeros(a+b, dtype=np.int)\n",
    "\n",
    "        # 每一行\n",
    "        for i in range(0, a):\n",
    "            for j in range(0, b):\n",
    "                if(dst[i,j] == 1):\n",
    "                    C[i] += 1\n",
    "        # 每一列\n",
    "        for j in range(0, b):\n",
    "            for i in range(0, a):\n",
    "                if(dst[i,j] == 1):\n",
    "                    C[a+j] += 1\n",
    "\n",
    "        fd.write(str(k+1) + '\\t')\n",
    "        for i in range(0, a+b-1):\n",
    "            fd.write(str(C[i]) + ',')\n",
    "        if k < 999:\n",
    "            fd.write(str(C[a+b-1]) + '\\n')\n",
    "        else:\n",
    "            fd.write(str(C[a+b-1]))\n"
   ]
  },
  {
   "cell_type": "markdown",
   "metadata": {},
   "source": [
    "### Feature2\n",
    "\n",
    "计算区域密度, 8*8"
   ]
  },
  {
   "cell_type": "code",
   "execution_count": 7,
   "metadata": {
    "ExecuteTime": {
     "end_time": "2018-12-19T09:41:07.582425Z",
     "start_time": "2018-12-19T09:41:05.235523Z"
    }
   },
   "outputs": [],
   "source": [
    "square8 = 8\n",
    "with open(\"./outputs/feature2.txt\", 'w+') as fd:\n",
    "    for k in range(0, 1000):\n",
    "        path = os.path.join(OUTPUT_DIR, str(k+1)+'.jpg')\n",
    "        image = io.imread(path)\n",
    "        thresh = filters.threshold_otsu(image)\n",
    "        dst = (image > thresh) * 1\n",
    "        a, b = dst.shape\n",
    "        bh = math.ceil(a / square8)\n",
    "        bw = math.ceil(b / square8)\n",
    "        size_ = bh * bw\n",
    "        # 定义特征向量\n",
    "        C = np.zeros(size_, dtype=np.int)\n",
    "        \n",
    "        for i in range(0, a):\n",
    "            x = math.floor(i / 8.0)\n",
    "            for j in range(0, b):\n",
    "                if dst[i, j] == 1:\n",
    "                    y = math.floor(j / 8.0)\n",
    "                    C[bw*x + y] += 1\n",
    "                    \n",
    "        fd.write(str(k+1) + '\\t')\n",
    "        for i in range(0, size_ - 1):\n",
    "            fd.write(str(C[i]) + ',')\n",
    "        if k < 999:\n",
    "            fd.write(str(C[size_ - 1]) + '\\n')\n",
    "        else:\n",
    "            fd.write(str(C[size_ - 1]))"
   ]
  },
  {
   "cell_type": "markdown",
   "metadata": {},
   "source": [
    "### Feature3\n",
    "\n",
    "计算区域密度 4*4"
   ]
  },
  {
   "cell_type": "code",
   "execution_count": 8,
   "metadata": {
    "ExecuteTime": {
     "end_time": "2018-12-19T09:41:10.094717Z",
     "start_time": "2018-12-19T09:41:07.583548Z"
    }
   },
   "outputs": [],
   "source": [
    "square4 = 4\n",
    "with open(\"./outputs/feature3.txt\", 'w+') as fd:\n",
    "    for k in range(0, 1000):\n",
    "        path = os.path.join(OUTPUT_DIR, str(k+1)+'.jpg')\n",
    "        image = io.imread(path)\n",
    "        thresh = filters.threshold_otsu(image)\n",
    "        dst = (image > thresh) * 1\n",
    "        a, b = dst.shape\n",
    "        bh = math.ceil(a / square4)\n",
    "        bw = math.ceil(b / square4)\n",
    "        size_ = bh * bw\n",
    "        # 定义特征向量\n",
    "        C = np.zeros(size_, dtype=np.int)\n",
    "        \n",
    "        for i in range(0, a):\n",
    "            x = math.floor(i / 8.0)\n",
    "            for j in range(0, b):\n",
    "                if dst[i, j] == 1:\n",
    "                    y = math.floor(j / 8.0)\n",
    "                    C[bw*x + y] += 1\n",
    "                    \n",
    "        fd.write(str(k+1) + '\\t')\n",
    "        for i in range(0, size_ - 1):\n",
    "            fd.write(str(C[i]) + ',')\n",
    "        if k < 999:\n",
    "            fd.write(str(C[size_ - 1]) + '\\n')\n",
    "        else:\n",
    "            fd.write(str(C[size_ - 1]))"
   ]
  },
  {
   "cell_type": "markdown",
   "metadata": {},
   "source": [
    "### Feature4\n",
    "计算区域密度 6*6"
   ]
  },
  {
   "cell_type": "code",
   "execution_count": 9,
   "metadata": {
    "ExecuteTime": {
     "end_time": "2018-12-19T09:41:12.510707Z",
     "start_time": "2018-12-19T09:41:10.095915Z"
    }
   },
   "outputs": [],
   "source": [
    "square6 = 6\n",
    "with open(\"./outputs/feature4.txt\", 'w+') as fd:\n",
    "    for k in range(0, 1000):\n",
    "        path = os.path.join(OUTPUT_DIR, str(k+1)+'.jpg')\n",
    "        image = io.imread(path)\n",
    "        thresh = filters.threshold_otsu(image)\n",
    "        dst = (image > thresh) * 1\n",
    "        a, b = dst.shape\n",
    "        bh = math.ceil(a / square6)\n",
    "        bw = math.ceil(b / square6)\n",
    "        size_ = bh * bw\n",
    "        # 定义特征向量\n",
    "        C = np.zeros(size_, dtype=np.int)\n",
    "        \n",
    "        for i in range(0, a):\n",
    "            x = math.floor(i / 8.0)\n",
    "            for j in range(0, b):\n",
    "                if dst[i, j] == 1:\n",
    "                    y = math.floor(j / 8.0)\n",
    "                    C[bw*x + y] += 1\n",
    "                    \n",
    "        fd.write(str(k+1) + '\\t')\n",
    "        for i in range(0, size_ - 1):\n",
    "            fd.write(str(C[i]) + ',')\n",
    "        if k < 999:\n",
    "            fd.write(str(C[size_ - 1]) + '\\n')\n",
    "        else:\n",
    "            fd.write(str(C[size_ - 1]))"
   ]
  },
  {
   "cell_type": "markdown",
   "metadata": {},
   "source": [
    "### Feature5\n",
    "\n",
    "计算每一行,每一列的线段数目"
   ]
  },
  {
   "cell_type": "code",
   "execution_count": 10,
   "metadata": {
    "ExecuteTime": {
     "end_time": "2018-12-19T09:41:16.067550Z",
     "start_time": "2018-12-19T09:41:13.140614Z"
    }
   },
   "outputs": [],
   "source": [
    "with open(\"./outputs/feature5.txt\", 'w+') as fd:\n",
    "    for k in range(0, 1000):\n",
    "        path = os.path.join(OUTPUT_DIR, str(k+1)+'.jpg')\n",
    "        image = io.imread(path)\n",
    "        thresh = filters.threshold_otsu(image)\n",
    "        dst = (image > thresh) * 1\n",
    "        a, b = dst.shape\n",
    "        size_ = a + b\n",
    "        # 定义特征向量\n",
    "        C = np.zeros(size_, dtype=np.int)\n",
    "        \n",
    "        for i in range(a):\n",
    "            for j in range(b-1):\n",
    "                if dst[i, j] != dst[i, j+1] and dst[i, j+1] == 1:\n",
    "                    C[i] += 1\n",
    "            \n",
    "        for j in range(b):\n",
    "            for i in range(a-1):\n",
    "                if dst[i, j] != dst[i+1, j] and dst[i+1, j] == 1:\n",
    "                    C[a+j] += 1\n",
    "                    \n",
    "        fd.write(str(k+1) + '\\t')\n",
    "        for i in range(0, size_ - 1):\n",
    "            fd.write(str(C[i]) + ',')\n",
    "        if k < 999:\n",
    "            fd.write(str(C[size_ - 1]) + '\\n')\n",
    "        else:\n",
    "            fd.write(str(C[size_ - 1]))"
   ]
  },
  {
   "cell_type": "markdown",
   "metadata": {},
   "source": [
    "### Feature6\n",
    "\n",
    "计算字符与上,下,左,右四个边界之间的距离"
   ]
  },
  {
   "cell_type": "code",
   "execution_count": null,
   "metadata": {},
   "outputs": [],
   "source": []
  },
  {
   "cell_type": "markdown",
   "metadata": {},
   "source": [
    "## 特征融合"
   ]
  },
  {
   "cell_type": "code",
   "execution_count": 11,
   "metadata": {
    "ExecuteTime": {
     "end_time": "2018-12-19T09:41:43.927059Z",
     "start_time": "2018-12-19T09:41:43.854868Z"
    }
   },
   "outputs": [],
   "source": [
    "feature1 = []\n",
    "with open(\"./outputs/feature1.txt\", 'r') as fp:\n",
    "    for line in fp:\n",
    "        linearr = line.strip().split('\\t')\n",
    "        feature1.append(linearr[1].split(','))\n",
    "    feature1 = np.array(feature1)\n",
    "\n",
    "feature2 = []\n",
    "with open(\"./outputs/feature2.txt\", 'r') as fp:\n",
    "    for line in fp:\n",
    "        linearr = line.strip().split('\\t')\n",
    "        feature2.append(linearr[1].split(','))\n",
    "    feature2 = np.array(feature2)  \n",
    "\n",
    "feature3 = []\n",
    "with open(\"./outputs/feature3.txt\", 'r') as fp:\n",
    "    for line in fp:\n",
    "        linearr = line.strip().split('\\t')\n",
    "        feature3.append(linearr[1].split(','))\n",
    "    feature3 = np.array(feature3)\n",
    "\n",
    "feature4 = []\n",
    "with open(\"./outputs/feature4.txt\", 'r') as fp:\n",
    "    for line in fp:\n",
    "        linearr = line.strip().split('\\t')\n",
    "        feature4.append(linearr[1].split(','))\n",
    "    feature4 = np.array(feature4)\n",
    "\n",
    "feature5 = []\n",
    "with open(\"./outputs/feature5.txt\", 'r') as fp:\n",
    "    for line in fp:\n",
    "        linearr = line.strip().split('\\t')\n",
    "        feature5.append(linearr[1].split(','))\n",
    "    feature5 = np.array(feature5)"
   ]
  },
  {
   "cell_type": "code",
   "execution_count": 12,
   "metadata": {
    "ExecuteTime": {
     "end_time": "2018-12-19T09:41:44.804804Z",
     "start_time": "2018-12-19T09:41:44.794336Z"
    }
   },
   "outputs": [],
   "source": [
    "input_x = np.append(\n",
    "               np.append(\n",
    "                   np.append(\n",
    "                       np.append(feature1, \n",
    "                           feature2, axis=1),\n",
    "                           feature3, axis=1),  \n",
    "                           feature4, axis=1),\n",
    "                           feature5, axis=1)"
   ]
  },
  {
   "cell_type": "code",
   "execution_count": 13,
   "metadata": {
    "ExecuteTime": {
     "end_time": "2018-12-19T09:41:46.294140Z",
     "start_time": "2018-12-19T09:41:46.254501Z"
    }
   },
   "outputs": [],
   "source": [
    "from sklearn import svm\n",
    "from sklearn.preprocessing import StandardScaler\n",
    "from sklearn.model_selection import GridSearchCV, train_test_split"
   ]
  },
  {
   "cell_type": "markdown",
   "metadata": {},
   "source": [
    "## 模型训练"
   ]
  },
  {
   "cell_type": "code",
   "execution_count": 14,
   "metadata": {
    "ExecuteTime": {
     "end_time": "2018-12-19T09:41:50.089492Z",
     "start_time": "2018-12-19T09:41:50.084518Z"
    }
   },
   "outputs": [],
   "source": [
    "# 为了看模型在没有见过数据集上的表现，随机拿出数据集中30%的部分做测试\n",
    "X_train, X_test, y_train, y_test = train_test_split(input_x, input_y, test_size=0.3, random_state=0) "
   ]
  },
  {
   "cell_type": "code",
   "execution_count": 15,
   "metadata": {
    "ExecuteTime": {
     "end_time": "2018-12-19T09:41:51.644946Z",
     "start_time": "2018-12-19T09:41:51.309265Z"
    }
   },
   "outputs": [
    {
     "name": "stdout",
     "output_type": "stream",
     "text": [
      "精度为0.9966666666666667\n"
     ]
    }
   ],
   "source": [
    "svc = svm.SVC(kernel='poly', degree=3, gamma=1, coef0=0)\n",
    "# 训练模型\n",
    "clf = svc.fit(X_train, y_train)\n",
    "# 计算测试集精度\n",
    "score = clf.score(X_test, y_test)\n",
    "print('精度为%s' % score)"
   ]
  }
 ],
 "metadata": {
  "kernelspec": {
   "display_name": "Python 3",
   "language": "python",
   "name": "python3"
  },
  "language_info": {
   "codemirror_mode": {
    "name": "ipython",
    "version": 3
   },
   "file_extension": ".py",
   "mimetype": "text/x-python",
   "name": "python",
   "nbconvert_exporter": "python",
   "pygments_lexer": "ipython3",
   "version": "3.5.2"
  }
 },
 "nbformat": 4,
 "nbformat_minor": 2
}
