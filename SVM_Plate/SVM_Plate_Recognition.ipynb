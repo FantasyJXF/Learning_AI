{
 "cells": [
  {
   "cell_type": "markdown",
   "metadata": {},
   "source": [
    "# 车牌识别 "
   ]
  },
  {
   "cell_type": "code",
   "execution_count": 1,
   "metadata": {
    "ExecuteTime": {
     "end_time": "2019-01-10T12:25:25.128222Z",
     "start_time": "2019-01-10T12:25:24.871781Z"
    }
   },
   "outputs": [],
   "source": [
    "import os\n",
    "import sys\n",
    "\n",
    "from skimage import io\n",
    "import matplotlib.pyplot as plt"
   ]
  },
  {
   "cell_type": "markdown",
   "metadata": {
    "ExecuteTime": {
     "end_time": "2019-01-10T09:28:38.466164Z",
     "start_time": "2019-01-10T09:28:38.437267Z"
    }
   },
   "source": [
    "## 加载训练好的模型"
   ]
  },
  {
   "cell_type": "code",
   "execution_count": 3,
   "metadata": {
    "ExecuteTime": {
     "end_time": "2019-01-10T12:25:26.913155Z",
     "start_time": "2019-01-10T12:25:26.744778Z"
    }
   },
   "outputs": [],
   "source": [
    "import pickle\n",
    "# 加载svm.pickle\n",
    "with open('svm.pickle', 'rb') as fr:\n",
    "    svm_clf = pickle.load(fr)"
   ]
  },
  {
   "cell_type": "markdown",
   "metadata": {},
   "source": [
    "## 加载数据"
   ]
  },
  {
   "cell_type": "code",
   "execution_count": 22,
   "metadata": {
    "ExecuteTime": {
     "end_time": "2019-01-10T12:31:11.620679Z",
     "start_time": "2019-01-10T12:31:11.614887Z"
    }
   },
   "outputs": [],
   "source": [
    "from features_extraction import features_extraction"
   ]
  },
  {
   "cell_type": "code",
   "execution_count": 4,
   "metadata": {
    "ExecuteTime": {
     "end_time": "2019-01-10T12:00:57.196512Z",
     "start_time": "2019-01-10T12:00:57.194560Z"
    }
   },
   "outputs": [],
   "source": [
    "GRAYED_DIR = \"./outputs/Grayed_Image\"\n",
    "CROPPED_DIR = \"./outputs/Cropped_Image\"\n",
    "PLATE_SEG_CHARS = \"./outputs/Plate_Seg_Chars\""
   ]
  },
  {
   "cell_type": "code",
   "execution_count": 27,
   "metadata": {
    "ExecuteTime": {
     "end_time": "2019-01-10T12:32:08.851836Z",
     "start_time": "2019-01-10T12:32:08.849316Z"
    }
   },
   "outputs": [],
   "source": [
    "num_to_char = {'10':'京', '11':\"渝\", '12':\"鄂\",\n",
    "               '20':'0', '22':'2', '25':'5', '26':'6', '27':'7', '28':'8', '29':'9', \n",
    "               '30':'A', '31':'B', '32':'C', '33':'D', '34':'Q'}"
   ]
  },
  {
   "cell_type": "code",
   "execution_count": 5,
   "metadata": {
    "ExecuteTime": {
     "end_time": "2019-01-10T11:55:59.077611Z",
     "start_time": "2019-01-10T11:55:59.045222Z"
    }
   },
   "outputs": [],
   "source": [
    "for n in range(1, 5):\n",
    "    p_dir = os.path.join(PLATE_SEG_CHARS, \"Plate_\"+str(n))\n",
    "    for m in range(1, 8):\n",
    "        c_path = os.path.join(p_dir, \"char_\"+str(m)+\".png\")\n",
    "        img = io.imread(c_path)\n",
    "#         plt.subplot(1,7,m)\n",
    "#         io.imshow(img)\n",
    "#         plt.title(\"char_\"+str(m))\n",
    "#     plt.show()"
   ]
  },
  {
   "cell_type": "code",
   "execution_count": 45,
   "metadata": {
    "ExecuteTime": {
     "end_time": "2019-01-10T12:38:03.015810Z",
     "start_time": "2019-01-10T12:38:03.013572Z"
    }
   },
   "outputs": [],
   "source": [
    "path = \"./outputs/Plate_Seg_Chars/Plate_1/char_4.png\""
   ]
  },
  {
   "cell_type": "code",
   "execution_count": 64,
   "metadata": {
    "ExecuteTime": {
     "end_time": "2019-01-10T12:46:31.117161Z",
     "start_time": "2019-01-10T12:46:31.101211Z"
    }
   },
   "outputs": [],
   "source": [
    "char_in = features_extraction(path)"
   ]
  },
  {
   "cell_type": "code",
   "execution_count": 65,
   "metadata": {
    "ExecuteTime": {
     "end_time": "2019-01-10T12:46:32.105159Z",
     "start_time": "2019-01-10T12:46:32.102849Z"
    }
   },
   "outputs": [],
   "source": [
    "y_ = svm_clf.predict(char_in)[0]"
   ]
  },
  {
   "cell_type": "code",
   "execution_count": 67,
   "metadata": {
    "ExecuteTime": {
     "end_time": "2019-01-10T12:46:35.293728Z",
     "start_time": "2019-01-10T12:46:35.291153Z"
    }
   },
   "outputs": [
    {
     "data": {
      "text/plain": [
       "'8'"
      ]
     },
     "execution_count": 67,
     "metadata": {},
     "output_type": "execute_result"
    }
   ],
   "source": [
    "num_to_char.get(y_)"
   ]
  },
  {
   "cell_type": "code",
   "execution_count": null,
   "metadata": {},
   "outputs": [],
   "source": []
  }
 ],
 "metadata": {
  "kernelspec": {
   "display_name": "Python 3",
   "language": "python",
   "name": "python3"
  },
  "language_info": {
   "codemirror_mode": {
    "name": "ipython",
    "version": 3
   },
   "file_extension": ".py",
   "mimetype": "text/x-python",
   "name": "python",
   "nbconvert_exporter": "python",
   "pygments_lexer": "ipython3",
   "version": "3.5.2"
  }
 },
 "nbformat": 4,
 "nbformat_minor": 2
}
