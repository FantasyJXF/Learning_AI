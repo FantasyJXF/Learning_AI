{
 "cells": [
  {
   "cell_type": "code",
   "execution_count": 1,
   "metadata": {
    "ExecuteTime": {
     "end_time": "2019-01-07T04:19:22.985438Z",
     "start_time": "2019-01-07T04:19:22.500294Z"
    }
   },
   "outputs": [],
   "source": [
    "import os\n",
    "import sys\n",
    "import math\n",
    "import numpy as np\n",
    "import pandas as pd\n",
    "from skimage import filters,io\n",
    "\n",
    "import matplotlib.pyplot as plt"
   ]
  },
  {
   "cell_type": "code",
   "execution_count": 2,
   "metadata": {
    "ExecuteTime": {
     "end_time": "2019-01-07T04:19:41.815035Z",
     "start_time": "2019-01-07T04:19:41.812809Z"
    }
   },
   "outputs": [],
   "source": [
    "GRAYED_DIR = \"./outputs/Grayed_Image\"\n",
    "CROPPED_DIR = \"./outputs/Cropped_Image\"\n",
    "PLATE_SEG_CHARS = \"./outputs/Plate_Seg_Chars\""
   ]
  },
  {
   "cell_type": "code",
   "execution_count": 6,
   "metadata": {
    "ExecuteTime": {
     "end_time": "2019-01-07T04:55:40.943975Z",
     "start_time": "2019-01-07T04:55:40.171203Z"
    }
   },
   "outputs": [
    {
     "name": "stdout",
     "output_type": "stream",
     "text": [
      "(92, 47)\n",
      "(92, 47)\n",
      "(92, 47)\n",
      "(92, 47)\n",
      "(92, 47)\n",
      "(92, 47)\n",
      "(92, 47)\n"
     ]
    },
    {
     "data": {
      "image/png": "[encoded data removed]",
      "text/plain": [
       "<Figure size 432x288 with 7 Axes>"
      ]
     },
     "metadata": {
      "needs_background": "light"
     },
     "output_type": "display_data"
    },
    {
     "name": "stdout",
     "output_type": "stream",
     "text": [
      "(92, 47)\n",
      "(92, 47)\n",
      "(92, 47)\n",
      "(92, 47)\n",
      "(92, 47)\n",
      "(92, 47)\n",
      "(92, 47)\n"
     ]
    },
    {
     "data": {
      "image/png": "[encoded data removed]",
      "text/plain": [
       "<Figure size 432x288 with 7 Axes>"
      ]
     },
     "metadata": {
      "needs_background": "light"
     },
     "output_type": "display_data"
    }
   ],
   "source": [
    "for n in range(1, 3):\n",
    "    p_dir = os.path.join(PLATE_SEG_CHARS, \"Plate_\"+str(n))\n",
    "    for m in range(1, 8):\n",
    "        c_path = os.path.join(p_dir, \"char_\"+str(m)+\".png\")\n",
    "        img = io.imread(c_path)\n",
    "        plt.subplot(1,7,m)\n",
    "        io.imshow(img)\n",
    "        plt.title(\"char_\"+str(m))\n",
    "    plt.show()"
   ]
  },
  {
   "cell_type": "code",
   "execution_count": null,
   "metadata": {},
   "outputs": [],
   "source": []
  }
 ],
 "metadata": {
  "kernelspec": {
   "display_name": "Python 3",
   "language": "python",
   "name": "python3"
  },
  "language_info": {
   "codemirror_mode": {
    "name": "ipython",
    "version": 3
   },
   "file_extension": ".py",
   "mimetype": "text/x-python",
   "name": "python",
   "nbconvert_exporter": "python",
   "pygments_lexer": "ipython3",
   "version": "3.5.2"
  }
 },
 "nbformat": 4,
 "nbformat_minor": 2
}
