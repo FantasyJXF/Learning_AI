{
 "cells": [
  {
   "cell_type": "code",
   "execution_count": 1,
   "metadata": {},
   "outputs": [],
   "source": [
    "import pandas as pd\n",
    "import numpy as np\n",
    "import sys\n",
    "import os\n",
    "import cv2\n",
    "\n",
    "import matplotlib.pyplot as plt\n",
    "\n",
    "from skimage import io"
   ]
  },
  {
   "cell_type": "code",
   "execution_count": 2,
   "metadata": {},
   "outputs": [],
   "source": [
    "IMAGES_DIR = \"Plate_Image\"\n",
    "GRAYED_DIR = \"Grayed_Image\"\n",
    "LABELS_FILE = \"Plate_Index.xls\""
   ]
  },
  {
   "cell_type": "code",
   "execution_count": 3,
   "metadata": {},
   "outputs": [
    {
     "data": {
      "text/plain": [
       "['Sheet1', 'Sheet2', 'Sheet3']"
      ]
     },
     "execution_count": 3,
     "metadata": {},
     "output_type": "execute_result"
    }
   ],
   "source": [
    "xls_file = pd.ExcelFile(LABELS_FILE)\n",
    "xls_file.sheet_names"
   ]
  },
  {
   "cell_type": "code",
   "execution_count": 4,
   "metadata": {},
   "outputs": [],
   "source": [
    "data = xls_file.parse(\"Sheet1\")\n",
    "data.columns = ['Image ID', 'Corner1_x', 'Corner1_y', 'Corner2_x', 'Corner2_y', 'Corner3_x', 'Corner3_y', \n",
    "                'Corner4_x', 'Corner4_y', 'Char1', 'Char2', 'Char3','Char4', 'Char5', 'Char6', 'Char7']"
   ]
  },
  {
   "cell_type": "code",
   "execution_count": 5,
   "metadata": {},
   "outputs": [
    {
     "data": {
      "text/html": [
       "<div>\n",
       "<style scoped>\n",
       "    .dataframe tbody tr th:only-of-type {\n",
       "        vertical-align: middle;\n",
       "    }\n",
       "\n",
       "    .dataframe tbody tr th {\n",
       "        vertical-align: top;\n",
       "    }\n",
       "\n",
       "    .dataframe thead th {\n",
       "        text-align: right;\n",
       "    }\n",
       "</style>\n",
       "<table border=\"1\" class=\"dataframe\">\n",
       "  <thead>\n",
       "    <tr style=\"text-align: right;\">\n",
       "      <th></th>\n",
       "      <th>Image ID</th>\n",
       "      <th>Corner1_x</th>\n",
       "      <th>Corner1_y</th>\n",
       "      <th>Corner2_x</th>\n",
       "      <th>Corner2_y</th>\n",
       "      <th>Corner3_x</th>\n",
       "      <th>Corner3_y</th>\n",
       "      <th>Corner4_x</th>\n",
       "      <th>Corner4_y</th>\n",
       "      <th>Char1</th>\n",
       "      <th>Char2</th>\n",
       "      <th>Char3</th>\n",
       "      <th>Char4</th>\n",
       "      <th>Char5</th>\n",
       "      <th>Char6</th>\n",
       "      <th>Char7</th>\n",
       "    </tr>\n",
       "  </thead>\n",
       "  <tbody>\n",
       "    <tr>\n",
       "      <th>0</th>\n",
       "      <td>702172519671</td>\n",
       "      <td>336</td>\n",
       "      <td>323</td>\n",
       "      <td>688</td>\n",
       "      <td>310</td>\n",
       "      <td>682</td>\n",
       "      <td>412</td>\n",
       "      <td>339</td>\n",
       "      <td>430</td>\n",
       "      <td>10</td>\n",
       "      <td>15</td>\n",
       "      <td>12</td>\n",
       "      <td>8</td>\n",
       "      <td>5</td>\n",
       "      <td>5</td>\n",
       "      <td>0</td>\n",
       "    </tr>\n",
       "    <tr>\n",
       "      <th>1</th>\n",
       "      <td>702172544593</td>\n",
       "      <td>301</td>\n",
       "      <td>286</td>\n",
       "      <td>728</td>\n",
       "      <td>291</td>\n",
       "      <td>725</td>\n",
       "      <td>423</td>\n",
       "      <td>306</td>\n",
       "      <td>418</td>\n",
       "      <td>10</td>\n",
       "      <td>23</td>\n",
       "      <td>26</td>\n",
       "      <td>1</td>\n",
       "      <td>9</td>\n",
       "      <td>6</td>\n",
       "      <td>9</td>\n",
       "    </tr>\n",
       "    <tr>\n",
       "      <th>2</th>\n",
       "      <td>702172623671</td>\n",
       "      <td>294</td>\n",
       "      <td>299</td>\n",
       "      <td>684</td>\n",
       "      <td>322</td>\n",
       "      <td>675</td>\n",
       "      <td>411</td>\n",
       "      <td>299</td>\n",
       "      <td>392</td>\n",
       "      <td>10</td>\n",
       "      <td>20</td>\n",
       "      <td>21</td>\n",
       "      <td>8</td>\n",
       "      <td>3</td>\n",
       "      <td>9</td>\n",
       "      <td>9</td>\n",
       "    </tr>\n",
       "    <tr>\n",
       "      <th>3</th>\n",
       "      <td>702172729578</td>\n",
       "      <td>200</td>\n",
       "      <td>267</td>\n",
       "      <td>723</td>\n",
       "      <td>291</td>\n",
       "      <td>707</td>\n",
       "      <td>398</td>\n",
       "      <td>222</td>\n",
       "      <td>381</td>\n",
       "      <td>10</td>\n",
       "      <td>21</td>\n",
       "      <td>22</td>\n",
       "      <td>7</td>\n",
       "      <td>9</td>\n",
       "      <td>2</td>\n",
       "      <td>5</td>\n",
       "    </tr>\n",
       "    <tr>\n",
       "      <th>4</th>\n",
       "      <td>702172759468</td>\n",
       "      <td>348</td>\n",
       "      <td>223</td>\n",
       "      <td>608</td>\n",
       "      <td>278</td>\n",
       "      <td>599</td>\n",
       "      <td>359</td>\n",
       "      <td>346</td>\n",
       "      <td>305</td>\n",
       "      <td>10</td>\n",
       "      <td>21</td>\n",
       "      <td>29</td>\n",
       "      <td>2</td>\n",
       "      <td>0</td>\n",
       "      <td>1</td>\n",
       "      <td>1</td>\n",
       "    </tr>\n",
       "  </tbody>\n",
       "</table>\n",
       "</div>"
      ],
      "text/plain": [
       "       Image ID  Corner1_x  Corner1_y  Corner2_x  Corner2_y  Corner3_x  \\\n",
       "0  702172519671        336        323        688        310        682   \n",
       "1  702172544593        301        286        728        291        725   \n",
       "2  702172623671        294        299        684        322        675   \n",
       "3  702172729578        200        267        723        291        707   \n",
       "4  702172759468        348        223        608        278        599   \n",
       "\n",
       "   Corner3_y  Corner4_x  Corner4_y  Char1  Char2  Char3  Char4  Char5  Char6  \\\n",
       "0        412        339        430     10     15     12      8      5      5   \n",
       "1        423        306        418     10     23     26      1      9      6   \n",
       "2        411        299        392     10     20     21      8      3      9   \n",
       "3        398        222        381     10     21     22      7      9      2   \n",
       "4        359        346        305     10     21     29      2      0      1   \n",
       "\n",
       "   Char7  \n",
       "0      0  \n",
       "1      9  \n",
       "2      9  \n",
       "3      5  \n",
       "4      1  "
      ]
     },
     "execution_count": 5,
     "metadata": {},
     "output_type": "execute_result"
    }
   ],
   "source": [
    "data.head()"
   ]
  },
  {
   "cell_type": "code",
   "execution_count": 6,
   "metadata": {
    "scrolled": true
   },
   "outputs": [],
   "source": [
    "fnames = [os.path.join(IMAGES_DIR, str(fname) + \".jpg\") for fname in data[\"Image ID\"]]"
   ]
  },
  {
   "cell_type": "code",
   "execution_count": 7,
   "metadata": {},
   "outputs": [
    {
     "ename": "SyntaxError",
     "evalue": "invalid syntax (<ipython-input-7-38d7aa88c9cc>, line 4)",
     "output_type": "error",
     "traceback": [
      "\u001b[0;36m  File \u001b[0;32m\"<ipython-input-7-38d7aa88c9cc>\"\u001b[0;36m, line \u001b[0;32m4\u001b[0m\n\u001b[0;31m    cropImg = image[data.iloc[i][], 2:50]\u001b[0m\n\u001b[0m                                 ^\u001b[0m\n\u001b[0;31mSyntaxError\u001b[0m\u001b[0;31m:\u001b[0m invalid syntax\n"
     ]
    }
   ],
   "source": [
    "for i in range(5):\n",
    "    path = fnames[i]\n",
    "    image = cv2.imread(path)\n",
    "    #cropImg = image[data.iloc[i][], 2:50]\n",
    "    path_out = os.path.join(GRAYED_DIR, str(i+1)+\".png\")\n",
    "    cv2.imwrite(path_out, image)"
   ]
  },
  {
   "cell_type": "code",
   "execution_count": 8,
   "metadata": {},
   "outputs": [
    {
     "data": {
      "text/plain": [
       "True"
      ]
     },
     "execution_count": 8,
     "metadata": {},
     "output_type": "execute_result"
    }
   ],
   "source": [
    "img = cv2.imread(fnames[1])\n",
    "img0 = cv2.cvtColor(img, cv2.COLOR_BGR2GRAY)\n",
    "cv2.imwrite(\"test.jpg\", img0)"
   ]
  },
  {
   "cell_type": "code",
   "execution_count": null,
   "metadata": {},
   "outputs": [],
   "source": []
  }
 ],
 "metadata": {
  "kernelspec": {
   "display_name": "Python 3",
   "language": "python",
   "name": "python3"
  },
  "language_info": {
   "codemirror_mode": {
    "name": "ipython",
    "version": 3
   },
   "file_extension": ".py",
   "mimetype": "text/x-python",
   "name": "python",
   "nbconvert_exporter": "python",
   "pygments_lexer": "ipython3",
   "version": "3.5.2"
  }
 },
 "nbformat": 4,
 "nbformat_minor": 2
}
