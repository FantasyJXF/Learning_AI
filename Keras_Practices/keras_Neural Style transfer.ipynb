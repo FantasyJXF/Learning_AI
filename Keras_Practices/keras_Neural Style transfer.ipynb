{
 "cells": [
  {
   "cell_type": "markdown",
   "metadata": {},
   "source": [
    "# 神经风格迁移"
   ]
  },
  {
   "cell_type": "markdown",
   "metadata": {},
   "source": [
    "* **风格**(style)是指图像中不同空间尺度的纹理\\颜色和视觉图案\n",
    "\n",
    "* **内容**(content)是指图像的高级宏观结构.\n",
    "\n",
    "实现风格迁移背后的关键概念与所有深度学习算法的核心思想是一样的:\n",
    "定义一个损失函数制定想要实现的目标,然后将这个损失最小化."
   ]
  },
  {
   "cell_type": "markdown",
   "metadata": {},
   "source": [
    "## 内容损失"
   ]
  },
  {
   "cell_type": "markdown",
   "metadata": {
    "ExecuteTime": {
     "end_time": "2018-11-14T12:33:41.857801Z",
     "start_time": "2018-11-14T12:33:41.853623Z"
    }
   },
   "source": [
    "内容损失的一个很好的候选者就是两个激活之间的L2范数,一个激活是预训练的卷积神经网络更靠顶部的某层在目标图像上计算得到的激活,另一个激活是同一层在生成图像上计算得到的激活.\n",
    "\n",
    "这可以保证,在更靠近顶部的层看来,生成图像与原始目标图像看起来很相似.\n"
   ]
  },
  {
   "cell_type": "markdown",
   "metadata": {},
   "source": [
    "## 风格损失"
   ]
  },
  {
   "cell_type": "markdown",
   "metadata": {},
   "source": [
    "风格损失的目的是在风格参考图像与生成图像之间,在不同的层激活内保存想死的内部相互关系.这保证了在风格参考图像与生成图像之间,不同空间尺度找到的纹理看起来都很相似.\n"
   ]
  },
  {
   "cell_type": "markdown",
   "metadata": {},
   "source": [
    "简而言之,可以使用预训练的卷积神经网络来定义一个具有以下特点的损失\n",
    "\n",
    "* 在目标内容图像和生成图像之间保持相似的较高层激活,从而能够保留内容.卷积神经网络应该能够\"看到\"目标图像和生成的图像包含相同的内容\n",
    "\n",
    "* 在较低层和较高层的激活中保持类似的相互关系(correlation),从而能够保留风格.特征相互关系捕捉到的是纹理(texture),生成图像和风格参考图像在不同的空间尺度上应该具有相同的纹理."
   ]
  },
  {
   "cell_type": "markdown",
   "metadata": {},
   "source": [
    "## 用Keras实现神经风格迁移 "
   ]
  },
  {
   "cell_type": "markdown",
   "metadata": {},
   "source": [
    "使用预训练的VGG19"
   ]
  },
  {
   "cell_type": "markdown",
   "metadata": {},
   "source": [
    "#### 定义初始变量"
   ]
  },
  {
   "cell_type": "code",
   "execution_count": 1,
   "metadata": {
    "ExecuteTime": {
     "end_time": "2018-11-15T09:38:40.651948Z",
     "start_time": "2018-11-15T09:38:40.642805Z"
    }
   },
   "outputs": [
    {
     "name": "stderr",
     "output_type": "stream",
     "text": [
      "Using TensorFlow backend.\n"
     ]
    },
    {
     "data": {
      "text/plain": [
       "'2.2.4'"
      ]
     },
     "execution_count": 1,
     "metadata": {},
     "output_type": "execute_result"
    }
   ],
   "source": [
    "import keras\n",
    "keras.__version__"
   ]
  },
  {
   "cell_type": "code",
   "execution_count": 2,
   "metadata": {
    "ExecuteTime": {
     "end_time": "2018-11-15T09:25:27.118950Z",
     "start_time": "2018-11-15T09:25:26.378683Z"
    }
   },
   "outputs": [],
   "source": [
    "from keras.preprocessing.image import load_img, img_to_array"
   ]
  },
  {
   "cell_type": "code",
   "execution_count": 13,
   "metadata": {
    "ExecuteTime": {
     "end_time": "2018-11-15T09:44:47.399135Z",
     "start_time": "2018-11-15T09:44:47.395973Z"
    }
   },
   "outputs": [],
   "source": [
    "DATASETS = \"../datasets/imgs/\"\n",
    "target_image_path = '../datasets/imgs/woman.jpg'\n",
    "style_reference_image_path = '../datasets/imgs/tree.jpg'\n",
    "\n",
    "# 生成图像的尺寸\n",
    "width, height = load_img(target_image_path).size\n",
    "img_height = 400\n",
    "img_width = int(width * img_height / height)"
   ]
  },
  {
   "cell_type": "code",
   "execution_count": 4,
   "metadata": {
    "ExecuteTime": {
     "end_time": "2018-11-15T09:44:51.318881Z",
     "start_time": "2018-11-15T09:44:51.310533Z"
    }
   },
   "outputs": [
    {
     "name": "stdout",
     "output_type": "stream",
     "text": [
      "img_height is 400, img_width is 600\n"
     ]
    }
   ],
   "source": [
    "print(\"img_height is %d, img_width is %d\" % (img_height, img_width))"
   ]
  },
  {
   "cell_type": "markdown",
   "metadata": {},
   "source": [
    "#### 辅助函数"
   ]
  },
  {
   "cell_type": "code",
   "execution_count": 5,
   "metadata": {
    "ExecuteTime": {
     "end_time": "2018-11-15T09:44:52.661065Z",
     "start_time": "2018-11-15T09:44:52.655955Z"
    }
   },
   "outputs": [],
   "source": [
    "import numpy as np\n",
    "from keras.applications import vgg19\n",
    "\n",
    "def preprocess_image(image_path):\n",
    "    img = load_img(image_path, target_size = (img_height, img_width))\n",
    "    img = img_to_array(img)\n",
    "    img = np.expand_dims(img, axis = 0)\n",
    "    img = vgg19.preprocess_input(img)\n",
    "    return img\n",
    "\n",
    "def deprocess_image(x):\n",
    "    # 减去ImageNet的平均像素值\n",
    "    # 使其中心为0,这里相当于vgg19.preprocess_input的逆操作\n",
    "    x[:, :, 0] += 103.939\n",
    "    x[:, :, 1] += 116.779\n",
    "    x[:, :, 2] += 123.68\n",
    "    # 将图像由BGR格式转换为RGB格式\n",
    "    x = x[:, :, ::-1]\n",
    "    x = np.clip(x, 0, 255).astype('uint8')\n",
    "    return x\n",
    "    "
   ]
  },
  {
   "cell_type": "markdown",
   "metadata": {},
   "source": [
    "#### 加载预训练的VGG19网络,并将其应用于3张图片"
   ]
  },
  {
   "cell_type": "code",
   "execution_count": 6,
   "metadata": {
    "ExecuteTime": {
     "end_time": "2018-11-15T09:44:54.516611Z",
     "start_time": "2018-11-15T09:44:53.929758Z"
    }
   },
   "outputs": [
    {
     "name": "stdout",
     "output_type": "stream",
     "text": [
      "Downloading data from https://github.com/fchollet/deep-learning-models/releases/download/v0.1/vgg19_weights_tf_dim_ordering_tf_kernels_notop.h5\n",
      "80142336/80134624 [==============================] - 81s 1us/step\n",
      "Model loaded\n"
     ]
    }
   ],
   "source": [
    "from keras import backend as K\n",
    "target_image = K.constant(preprocess_image(target_image_path))\n",
    "style_reference_image = K.constant(preprocess_image(style_reference_image_path))\n",
    "combination_image = K.placeholder((1, img_height, img_width, 3))\n",
    "\n",
    "input_tensor = K.concatenate([target_image, style_reference_image, combination_image], axis = 0)\n",
    "\n",
    "model = vgg19.VGG19(input_tensor = input_tensor, \n",
    "                    weights = 'imagenet',\n",
    "                    include_top = False)\n",
    "\n",
    "print('Model loaded')"
   ]
  },
  {
   "cell_type": "markdown",
   "metadata": {},
   "source": [
    "#### 内容损失"
   ]
  },
  {
   "cell_type": "code",
   "execution_count": 7,
   "metadata": {
    "ExecuteTime": {
     "end_time": "2018-11-15T09:44:55.591660Z",
     "start_time": "2018-11-15T09:44:55.589550Z"
    }
   },
   "outputs": [],
   "source": [
    "def content_loss(base, combination):\n",
    "    return K.sum(K.square(combination - base))"
   ]
  },
  {
   "cell_type": "markdown",
   "metadata": {},
   "source": [
    "#### 风格损失"
   ]
  },
  {
   "cell_type": "code",
   "execution_count": 8,
   "metadata": {
    "ExecuteTime": {
     "end_time": "2018-11-15T09:44:57.034147Z",
     "start_time": "2018-11-15T09:44:57.031519Z"
    }
   },
   "outputs": [],
   "source": [
    "def gram_matrix(x):\n",
    "    features = K.batch_flatten(K.permute_dimensions(x, (2, 0, 1)))\n",
    "    gram = K.dot(features, K.transpose(features))\n",
    "    return gram\n",
    "\n",
    "def style_loss(style, combination):\n",
    "    S = gram_matrix(style)\n",
    "    C = gram_matrix(combination)\n",
    "    channels = 3\n",
    "    size = img_height * img_width\n",
    "    return K.sum(K.square(S - C)) / (4. * (channels ** 2) * (size ** 2))"
   ]
  },
  {
   "cell_type": "markdown",
   "metadata": {},
   "source": [
    "#### 总变差损失"
   ]
  },
  {
   "cell_type": "code",
   "execution_count": 9,
   "metadata": {
    "ExecuteTime": {
     "end_time": "2018-11-15T09:44:58.232664Z",
     "start_time": "2018-11-15T09:44:58.227258Z"
    }
   },
   "outputs": [],
   "source": [
    "def total_variation_loss(x):\n",
    "    a = K.square(\n",
    "        x[:, :img_height - 1, :img_width - 1, :] -\n",
    "        x[:, 1:, :img_width - 1, :])\n",
    "    b = K.square(\n",
    "        x[:, :img_height - 1, :img_width - 1, :] -\n",
    "        x[:, img_height - 1, 1:, :])\n",
    "    return K.sum(K.pow(a + b, 1.25))"
   ]
  },
  {
   "cell_type": "markdown",
   "metadata": {},
   "source": [
    "需要最小化的损失是这三项损失的加权平均.\n",
    "\n",
    "为了计算内容损失,只使用一个靠顶部的层,即block5_conv2层;\n",
    "对于风格损失,需要使用一系列层,既包括顶层也包括底层.\n",
    "最后还需要添加总变差损失"
   ]
  },
  {
   "cell_type": "markdown",
   "metadata": {},
   "source": [
    "根据所使用的风格参考图像和内容图像,很可能还需要调节content_weight系数(内容损失对总损失的贡献比例).\n",
    "\n",
    "更大的content_weight表示目标内容更容易在生成图像中被识别出来"
   ]
  },
  {
   "cell_type": "markdown",
   "metadata": {},
   "source": [
    "#### 定义需要最小化的最终损失"
   ]
  },
  {
   "cell_type": "code",
   "execution_count": 10,
   "metadata": {
    "ExecuteTime": {
     "end_time": "2018-11-15T09:45:00.597632Z",
     "start_time": "2018-11-15T09:45:00.482896Z"
    }
   },
   "outputs": [],
   "source": [
    "outputs_dict = dict([(layer.name, layer.output) for layer in model.layers])\n",
    "\n",
    "# 用于内容损失的层\n",
    "content_layer = 'block5_conv2'\n",
    "\n",
    "# 用于风格损失的层\n",
    "style_layers = ['block1_conv1',\n",
    "                'block2_conv1',\n",
    "                'block3_conv1',\n",
    "                'block4_conv1',\n",
    "                'block5_conv1']\n",
    "\n",
    "# 损失分量的加权平均所使用的权重\n",
    "total_variation_weight = 1e-4\n",
    "style_weight = 1.\n",
    "content_weight = 0.025\n",
    "\n",
    "loss = K.variable(0.)\n",
    "layer_features = outputs_dict[content_layer]\n",
    "target_image_features = layer_features[0, :, :, :]\n",
    "combination_features = layer_features[2, :, :, :]\n",
    "# 添加内容损失\n",
    "loss += content_weight * content_loss(target_image_features, combination_features)\n",
    "\n",
    "# 添加每个层的风格损失分量\n",
    "for layer_name in style_layers:\n",
    "    layer_features = outputs_dict[layer_name]\n",
    "    style_reference_features = layer_features[1, :, :, :]\n",
    "    combination_features = layer_features[2, :, :, :]\n",
    "    s1 = style_loss(style_reference_features, combination_features)\n",
    "    loss += (style_weight / len(style_layers)) * s1\n",
    "    \n",
    "# 添加总变差损失\n",
    "loss += total_variation_weight * total_variation_loss(combination_image)\n"
   ]
  },
  {
   "cell_type": "markdown",
   "metadata": {},
   "source": [
    "#### 设置梯度下降过程"
   ]
  },
  {
   "cell_type": "code",
   "execution_count": 11,
   "metadata": {
    "ExecuteTime": {
     "end_time": "2018-11-15T09:45:01.993669Z",
     "start_time": "2018-11-15T09:45:01.701155Z"
    }
   },
   "outputs": [],
   "source": [
    "# 获取损失相对于生成图像的梯度\n",
    "grads = K.gradients(loss, combination_image)[0]\n",
    "\n",
    "# 获取当前损失值和当前梯度值的函数\n",
    "fetch_loss_and_grads = K.function([combination_image], [loss, grads])\n",
    "\n",
    "class Evaluator(object):\n",
    "    def __init__(self):\n",
    "        self.loss_value = None\n",
    "        self.grad_values = None\n",
    "        \n",
    "    def loss(self, x):\n",
    "        assert self.loss_value is None\n",
    "        x = x.reshape((1, img_height, img_width, 3))\n",
    "        outs = fetch_loss_and_grads([x])\n",
    "        loss_value = outs[0]\n",
    "        grad_values = outs[1].flatten().astype('float64')\n",
    "        self.loss_value = loss_value\n",
    "        self.grad_values = grad_values\n",
    "        return self.loss_value\n",
    "    \n",
    "    def grads(self, x):\n",
    "        assert self.loss_value is not None\n",
    "        grad_values = np.copy(self.grad_values)\n",
    "        self.loss_value = None\n",
    "        self.grad_values = None\n",
    "        return grad_values\n",
    "    \n",
    "evaluator = Evaluator()"
   ]
  },
  {
   "cell_type": "markdown",
   "metadata": {},
   "source": [
    "#### 风格迁移循环"
   ]
  },
  {
   "cell_type": "code",
   "execution_count": 12,
   "metadata": {
    "ExecuteTime": {
     "start_time": "2018-11-15T09:45:02.975Z"
    }
   },
   "outputs": [
    {
     "name": "stdout",
     "output_type": "stream",
     "text": [
      "Start of iteration  0\n",
      "Current loss value:  752019840.0\n",
      "Image saved as  my_result_at_iteration_0.png\n",
      "Iteration 0 completed in 9s\n",
      "Start of iteration  1\n"
     ]
    },
    {
     "name": "stderr",
     "output_type": "stream",
     "text": [
      "/usr/local/lib/python3.5/dist-packages/ipykernel_launcher.py:21: DeprecationWarning: `imsave` is deprecated!\n",
      "`imsave` is deprecated in SciPy 1.0.0, and will be removed in 1.2.0.\n",
      "Use ``imageio.imwrite`` instead.\n"
     ]
    },
    {
     "name": "stdout",
     "output_type": "stream",
     "text": [
      "Current loss value:  436029820.0\n",
      "Image saved as  my_result_at_iteration_1.png\n",
      "Iteration 1 completed in 5s\n",
      "Start of iteration  2\n",
      "Current loss value:  322340480.0\n",
      "Image saved as  my_result_at_iteration_2.png\n",
      "Iteration 2 completed in 5s\n",
      "Start of iteration  3\n",
      "Current loss value:  263031840.0\n",
      "Image saved as  my_result_at_iteration_3.png\n",
      "Iteration 3 completed in 5s\n",
      "Start of iteration  4\n",
      "Current loss value:  225531020.0\n",
      "Image saved as  my_result_at_iteration_4.png\n",
      "Iteration 4 completed in 5s\n",
      "Start of iteration  5\n",
      "Current loss value:  199801300.0\n",
      "Image saved as  my_result_at_iteration_5.png\n",
      "Iteration 5 completed in 5s\n",
      "Start of iteration  6\n",
      "Current loss value:  181547570.0\n",
      "Image saved as  my_result_at_iteration_6.png\n",
      "Iteration 6 completed in 6s\n",
      "Start of iteration  7\n",
      "Current loss value:  166785680.0\n",
      "Image saved as  my_result_at_iteration_7.png\n",
      "Iteration 7 completed in 5s\n",
      "Start of iteration  8\n",
      "Current loss value:  153292450.0\n",
      "Image saved as  my_result_at_iteration_8.png\n",
      "Iteration 8 completed in 5s\n",
      "Start of iteration  9\n",
      "Current loss value:  140455420.0\n",
      "Image saved as  my_result_at_iteration_9.png\n",
      "Iteration 9 completed in 5s\n",
      "Start of iteration  10\n",
      "Current loss value:  130593050.0\n",
      "Image saved as  my_result_at_iteration_10.png\n",
      "Iteration 10 completed in 5s\n",
      "Start of iteration  11\n",
      "Current loss value:  122711400.0\n",
      "Image saved as  my_result_at_iteration_11.png\n",
      "Iteration 11 completed in 5s\n",
      "Start of iteration  12\n",
      "Current loss value:  115490330.0\n",
      "Image saved as  my_result_at_iteration_12.png\n",
      "Iteration 12 completed in 7s\n",
      "Start of iteration  13\n",
      "Current loss value:  109737656.0\n",
      "Image saved as  my_result_at_iteration_13.png\n",
      "Iteration 13 completed in 5s\n",
      "Start of iteration  14\n",
      "Current loss value:  104502390.0\n",
      "Image saved as  my_result_at_iteration_14.png\n",
      "Iteration 14 completed in 5s\n",
      "Start of iteration  15\n",
      "Current loss value:  99396060.0\n",
      "Image saved as  my_result_at_iteration_15.png\n",
      "Iteration 15 completed in 5s\n",
      "Start of iteration  16\n",
      "Current loss value:  95215464.0\n",
      "Image saved as  my_result_at_iteration_16.png\n",
      "Iteration 16 completed in 5s\n",
      "Start of iteration  17\n",
      "Current loss value:  91004270.0\n",
      "Image saved as  my_result_at_iteration_17.png\n",
      "Iteration 17 completed in 7s\n",
      "Start of iteration  18\n",
      "Current loss value:  87792590.0\n",
      "Image saved as  my_result_at_iteration_18.png\n",
      "Iteration 18 completed in 5s\n",
      "Start of iteration  19\n",
      "Current loss value:  84828430.0\n",
      "Image saved as  my_result_at_iteration_19.png\n",
      "Iteration 19 completed in 5s\n"
     ]
    }
   ],
   "source": [
    "from scipy.optimize import fmin_l_bfgs_b\n",
    "from scipy.misc import imsave\n",
    "import time\n",
    "\n",
    "result_prefix = 'my_result'\n",
    "iterations = 20\n",
    "\n",
    "x = preprocess_image(target_image_path)\n",
    "x = x.flatten()\n",
    "for i in range(iterations):\n",
    "    print('Start of iteration ', i)\n",
    "    start_time = time.time()\n",
    "    x, min_val, info = fmin_l_bfgs_b(evaluator.loss, \n",
    "                                     x,\n",
    "                                     fprime = evaluator.grads,\n",
    "                                     maxfun = 20)\n",
    "    print('Current loss value: ', min_val)\n",
    "    img = x.copy().reshape((img_height, img_width, 3))\n",
    "    img = deprocess_image(img)\n",
    "    fname = result_prefix + '_at_iteration_%d.png' % i\n",
    "    path = os.path.join(DATASETS, fname)\n",
    "    imsave(path, img)\n",
    "    end_time = time.time()\n",
    "    print(\"Iteration %d completed in %ds\" % (i, end_time - start_time))"
   ]
  },
  {
   "cell_type": "code",
   "execution_count": null,
   "metadata": {},
   "outputs": [],
   "source": []
  }
 ],
 "metadata": {
  "kernelspec": {
   "display_name": "Python 3",
   "language": "python",
   "name": "python3"
  },
  "language_info": {
   "codemirror_mode": {
    "name": "ipython",
    "version": 3
   },
   "file_extension": ".py",
   "mimetype": "text/x-python",
   "name": "python",
   "nbconvert_exporter": "python",
   "pygments_lexer": "ipython3",
   "version": "3.5.2"
  }
 },
 "nbformat": 4,
 "nbformat_minor": 2
}
