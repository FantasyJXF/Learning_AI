{
 "cells": [
  {
   "cell_type": "markdown",
   "metadata": {},
   "source": [
    "## Keras 函数式API"
   ]
  },
  {
   "cell_type": "code",
   "execution_count": 1,
   "metadata": {
    "ExecuteTime": {
     "end_time": "2018-11-12T12:18:04.772474Z",
     "start_time": "2018-11-12T12:18:04.000368Z"
    }
   },
   "outputs": [
    {
     "name": "stderr",
     "output_type": "stream",
     "text": [
      "Using TensorFlow backend.\n"
     ]
    }
   ],
   "source": [
    "from keras import Input, layers\n",
    "\n",
    "# 一个张量\n",
    "input_tensor = Input(shape = (32,))\n",
    "\n",
    "# 一个层是一个函数\n",
    "dense = layers.Dense(32, activation = 'relu')\n",
    "\n",
    "# 可以在一个张量上调用一个层,它会返回一个张量\n",
    "output_tensor = dense(input_tensor)"
   ]
  },
  {
   "cell_type": "code",
   "execution_count": 2,
   "metadata": {
    "ExecuteTime": {
     "end_time": "2018-11-12T12:28:32.899269Z",
     "start_time": "2018-11-12T12:28:32.856454Z"
    }
   },
   "outputs": [
    {
     "name": "stdout",
     "output_type": "stream",
     "text": [
      "_________________________________________________________________\n",
      "Layer (type)                 Output Shape              Param #   \n",
      "=================================================================\n",
      "input_2 (InputLayer)         (None, 64)                0         \n",
      "_________________________________________________________________\n",
      "dense_5 (Dense)              (None, 32)                2080      \n",
      "_________________________________________________________________\n",
      "dense_6 (Dense)              (None, 32)                1056      \n",
      "_________________________________________________________________\n",
      "dense_7 (Dense)              (None, 10)                330       \n",
      "=================================================================\n",
      "Total params: 3,466\n",
      "Trainable params: 3,466\n",
      "Non-trainable params: 0\n",
      "_________________________________________________________________\n"
     ]
    }
   ],
   "source": [
    "from keras.models import Sequential, Model\n",
    "from keras import layers\n",
    "from keras import Input\n",
    "\n",
    "# Sequential模型\n",
    "seq_model = Sequential()\n",
    "seq_model.add(layers.Dense(32, activation = 'relu', input_shape = (64,)))\n",
    "seq_model.add(layers.Dense(32, activation = 'relu'))\n",
    "seq_model.add(layers.Dense(10, activation = 'softmax'))\n",
    "\n",
    "# 对应的函数式API实现\n",
    "input_tensor = Input(shape = (64,))\n",
    "x = layers.Dense(32, activation = 'relu')(input_tensor)\n",
    "x = layers.Dense(32, activation = 'relu')(x)\n",
    "output_tensor = layers.Dense(10, activation = 'softmax')(x)\n",
    "model = Model(input_tensor, output_tensor)\n",
    "model.summary()"
   ]
  },
  {
   "cell_type": "code",
   "execution_count": 3,
   "metadata": {
    "ExecuteTime": {
     "end_time": "2018-11-12T12:34:21.375617Z",
     "start_time": "2018-11-12T12:34:20.250378Z"
    }
   },
   "outputs": [
    {
     "name": "stdout",
     "output_type": "stream",
     "text": [
      "Epoch 1/10\n",
      "1000/1000 [==============================] - 1s 702us/step - loss: 11.8067 - acc: 0.0960\n",
      "Epoch 2/10\n",
      "1000/1000 [==============================] - 0s 23us/step - loss: 11.6078 - acc: 0.0920\n",
      "Epoch 3/10\n",
      "1000/1000 [==============================] - 0s 27us/step - loss: 11.5825 - acc: 0.0980\n",
      "Epoch 4/10\n",
      "1000/1000 [==============================] - 0s 32us/step - loss: 11.5715 - acc: 0.1010\n",
      "Epoch 5/10\n",
      "1000/1000 [==============================] - 0s 22us/step - loss: 11.5638 - acc: 0.1060\n",
      "Epoch 6/10\n",
      "1000/1000 [==============================] - 0s 28us/step - loss: 11.5575 - acc: 0.1190\n",
      "Epoch 7/10\n",
      "1000/1000 [==============================] - 0s 33us/step - loss: 11.5532 - acc: 0.1160\n",
      "Epoch 8/10\n",
      "1000/1000 [==============================] - 0s 29us/step - loss: 11.5498 - acc: 0.1130\n",
      "Epoch 9/10\n",
      "1000/1000 [==============================] - 0s 23us/step - loss: 11.5467 - acc: 0.1170\n",
      "Epoch 10/10\n",
      "1000/1000 [==============================] - 0s 30us/step - loss: 11.5441 - acc: 0.1170\n",
      "1000/1000 [==============================] - 0s 46us/step\n"
     ]
    }
   ],
   "source": [
    "model.compile(optimizer = 'rmsprop',\n",
    "               loss = 'categorical_crossentropy',\n",
    "               metrics = ['accuracy'])\n",
    "import numpy as np\n",
    "x_train = np.random.random((1000, 64))\n",
    "y_train = np.random.random((1000,10))\n",
    "model.fit(x_train, y_train, epochs = 10, batch_size = 128)\n",
    "scores = model.evaluate(x_train, y_train)"
   ]
  },
  {
   "cell_type": "code",
   "execution_count": 6,
   "metadata": {
    "ExecuteTime": {
     "end_time": "2018-11-12T12:34:59.025002Z",
     "start_time": "2018-11-12T12:34:59.022180Z"
    }
   },
   "outputs": [
    {
     "name": "stdout",
     "output_type": "stream",
     "text": [
      "[11.540735137939453, 0.123]\n"
     ]
    }
   ],
   "source": [
    "print(scores)"
   ]
  },
  {
   "cell_type": "code",
   "execution_count": 7,
   "metadata": {
    "ExecuteTime": {
     "end_time": "2018-11-12T12:36:02.123273Z",
     "start_time": "2018-11-12T12:36:02.117359Z"
    }
   },
   "outputs": [
    {
     "data": {
      "text/plain": [
       "['loss', 'acc']"
      ]
     },
     "execution_count": 7,
     "metadata": {},
     "output_type": "execute_result"
    }
   ],
   "source": [
    "model.metrics_names"
   ]
  },
  {
   "cell_type": "code",
   "execution_count": 22,
   "metadata": {
    "ExecuteTime": {
     "end_time": "2018-11-12T12:42:34.381018Z",
     "start_time": "2018-11-12T12:42:34.378256Z"
    }
   },
   "outputs": [
    {
     "data": {
      "text/plain": [
       "list"
      ]
     },
     "execution_count": 22,
     "metadata": {},
     "output_type": "execute_result"
    }
   ],
   "source": [
    "type(scores)\n"
   ]
  },
  {
   "cell_type": "markdown",
   "metadata": {},
   "source": [
    "## 用函数式API实现双输入问答模型"
   ]
  },
  {
   "cell_type": "code",
   "execution_count": 23,
   "metadata": {
    "ExecuteTime": {
     "end_time": "2018-11-12T12:51:03.088157Z",
     "start_time": "2018-11-12T12:51:02.807790Z"
    }
   },
   "outputs": [],
   "source": [
    "from keras.models import Model\n",
    "from keras import layers\n",
    "from keras import Input \n",
    "\n",
    "text_vocabulary_size = 10000\n",
    "question_vocabulary_size = 10000\n",
    "answer_vocabulary_size = 500\n",
    "\n",
    "text_input = Input(shape = (None, ), dtype = 'int32', name = 'text')\n",
    "embedded_text = layers.Embedding(text_vocabulary_size, 64)(text_input)\n",
    "encoded_text = layers.LSTM(32)(embedded_text)\n",
    "\n",
    "question_input = Input(shape = (None,), dtype = 'int32', name = 'question')\n",
    "embedded_question= layers.Embedding(question_vocabulary_size, 64)(question_input)\n",
    "encoded_question = layers.LSTM(16)(embedded_question)\n",
    "\n",
    "concatenated = layers.concatenate([encoded_text, encoded_question], axis = 1)\n",
    "\n",
    "answer = layers.Dense(answer_vocabulary_size, activation = 'softmax')(concatenated)\n"
   ]
  },
  {
   "cell_type": "code",
   "execution_count": 24,
   "metadata": {
    "ExecuteTime": {
     "end_time": "2018-11-12T12:52:53.059312Z",
     "start_time": "2018-11-12T12:52:53.039839Z"
    }
   },
   "outputs": [],
   "source": [
    "model = Model([text_input, question_input], answer)\n",
    "model.compile(optimizer = 'rmsprop',\n",
    "              loss = 'categorical_crossentropy',\n",
    "              metrics = ['acc'])"
   ]
  },
  {
   "cell_type": "code",
   "execution_count": 27,
   "metadata": {
    "ExecuteTime": {
     "end_time": "2018-11-12T12:59:32.474269Z",
     "start_time": "2018-11-12T12:59:32.472002Z"
    }
   },
   "outputs": [],
   "source": [
    "import keras"
   ]
  },
  {
   "cell_type": "code",
   "execution_count": 29,
   "metadata": {
    "ExecuteTime": {
     "end_time": "2018-11-12T13:01:52.277476Z",
     "start_time": "2018-11-12T13:00:43.107385Z"
    }
   },
   "outputs": [
    {
     "name": "stdout",
     "output_type": "stream",
     "text": [
      "Epoch 1/10\n",
      "1000/1000 [==============================] - 4s 4ms/step - loss: 6.2148 - acc: 1.0000e-03\n",
      "Epoch 2/10\n",
      "1000/1000 [==============================] - 3s 3ms/step - loss: 6.1896 - acc: 0.0270\n",
      "Epoch 3/10\n",
      "1000/1000 [==============================] - 3s 3ms/step - loss: 6.0834 - acc: 0.0050\n",
      "Epoch 4/10\n",
      "1000/1000 [==============================] - 3s 3ms/step - loss: 5.9746 - acc: 0.0070\n",
      "Epoch 5/10\n",
      "1000/1000 [==============================] - 3s 3ms/step - loss: 5.8662 - acc: 0.0080\n",
      "Epoch 6/10\n",
      "1000/1000 [==============================] - 3s 3ms/step - loss: 5.7504 - acc: 0.0060\n",
      "Epoch 7/10\n",
      "1000/1000 [==============================] - 3s 3ms/step - loss: 5.6190 - acc: 0.0140\n",
      "Epoch 8/10\n",
      "1000/1000 [==============================] - 3s 3ms/step - loss: 5.5034 - acc: 0.0170\n",
      "Epoch 9/10\n",
      "1000/1000 [==============================] - 3s 3ms/step - loss: 5.3924 - acc: 0.0410\n",
      "Epoch 10/10\n",
      "1000/1000 [==============================] - 3s 3ms/step - loss: 5.2948 - acc: 0.0500\n",
      "Epoch 1/10\n",
      "1000/1000 [==============================] - 3s 3ms/step - loss: 5.2126 - acc: 0.0550\n",
      "Epoch 2/10\n",
      "1000/1000 [==============================] - 3s 3ms/step - loss: 5.1262 - acc: 0.0690\n",
      "Epoch 3/10\n",
      "1000/1000 [==============================] - 3s 3ms/step - loss: 5.0332 - acc: 0.0770\n",
      "Epoch 4/10\n",
      "1000/1000 [==============================] - 3s 3ms/step - loss: 4.9512 - acc: 0.1000\n",
      "Epoch 5/10\n",
      "1000/1000 [==============================] - 3s 3ms/step - loss: 4.8839 - acc: 0.1210\n",
      "Epoch 6/10\n",
      "1000/1000 [==============================] - 3s 3ms/step - loss: 4.8093 - acc: 0.1200\n",
      "Epoch 7/10\n",
      "1000/1000 [==============================] - 3s 3ms/step - loss: 4.7323 - acc: 0.1380\n",
      "Epoch 8/10\n",
      "1000/1000 [==============================] - 3s 3ms/step - loss: 4.6736 - acc: 0.1430\n",
      "Epoch 9/10\n",
      "1000/1000 [==============================] - 3s 3ms/step - loss: 4.5964 - acc: 0.1690\n",
      "Epoch 10/10\n",
      "1000/1000 [==============================] - 3s 3ms/step - loss: 4.5293 - acc: 0.1640\n"
     ]
    },
    {
     "data": {
      "text/plain": [
       "<keras.callbacks.History at 0x7f53a558c4e0>"
      ]
     },
     "execution_count": 29,
     "metadata": {},
     "output_type": "execute_result"
    }
   ],
   "source": [
    "num_samples = 1000\n",
    "max_length = 100\n",
    "text = np.random.randint(1, text_vocabulary_size, size = (num_samples, max_length))\n",
    "question = np.random.randint(1, question_vocabulary_size, size = (num_samples, max_length))\n",
    "answer = np.random.randint(answer_vocabulary_size, size = (num_samples))\n",
    "\n",
    "answer = keras.utils.to_categorical(answer, answer_vocabulary_size)\n",
    "\n",
    "model.fit([text, question], answer, epochs = 10, batch_size = 64)\n",
    "\n",
    "model.fit({'text':text, 'question':question}, answer, epochs = 10, batch_size = 64)"
   ]
  },
  {
   "cell_type": "code",
   "execution_count": null,
   "metadata": {},
   "outputs": [],
   "source": []
  }
 ],
 "metadata": {
  "kernelspec": {
   "display_name": "Python 3",
   "language": "python",
   "name": "python3"
  },
  "language_info": {
   "codemirror_mode": {
    "name": "ipython",
    "version": 3
   },
   "file_extension": ".py",
   "mimetype": "text/x-python",
   "name": "python",
   "nbconvert_exporter": "python",
   "pygments_lexer": "ipython3",
   "version": "3.5.2"
  }
 },
 "nbformat": 4,
 "nbformat_minor": 2
}
